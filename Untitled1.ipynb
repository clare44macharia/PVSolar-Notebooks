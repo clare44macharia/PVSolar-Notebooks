{
 "cells": [
  {
   "cell_type": "code",
   "execution_count": 1,
   "metadata": {},
   "outputs": [],
   "source": [
    "import pandas as pd\n",
    "import numpy as np"
   ]
  },
  {
   "cell_type": "code",
   "execution_count": 18,
   "metadata": {},
   "outputs": [],
   "source": [
    "import csv"
   ]
  },
  {
   "cell_type": "code",
   "execution_count": 80,
   "metadata": {},
   "outputs": [
    {
     "name": "stderr",
     "output_type": "stream",
     "text": [
      "Using TensorFlow backend.\n"
     ]
    },
    {
     "ename": "ModuleNotFoundError",
     "evalue": "No module named 'tensorflow'",
     "output_type": "error",
     "traceback": [
      "\u001b[1;31m---------------------------------------------------------------------------\u001b[0m",
      "\u001b[1;31mModuleNotFoundError\u001b[0m                       Traceback (most recent call last)",
      "\u001b[1;32m<ipython-input-80-88d96843a926>\u001b[0m in \u001b[0;36m<module>\u001b[1;34m()\u001b[0m\n\u001b[1;32m----> 1\u001b[1;33m \u001b[1;32mimport\u001b[0m \u001b[0mkeras\u001b[0m\u001b[1;33m\u001b[0m\u001b[0m\n\u001b[0m",
      "\u001b[1;32m~\\Anaconda3\\lib\\site-packages\\keras\\__init__.py\u001b[0m in \u001b[0;36m<module>\u001b[1;34m()\u001b[0m\n\u001b[0;32m      1\u001b[0m \u001b[1;32mfrom\u001b[0m \u001b[0m__future__\u001b[0m \u001b[1;32mimport\u001b[0m \u001b[0mabsolute_import\u001b[0m\u001b[1;33m\u001b[0m\u001b[0m\n\u001b[0;32m      2\u001b[0m \u001b[1;33m\u001b[0m\u001b[0m\n\u001b[1;32m----> 3\u001b[1;33m \u001b[1;32mfrom\u001b[0m \u001b[1;33m.\u001b[0m \u001b[1;32mimport\u001b[0m \u001b[0mutils\u001b[0m\u001b[1;33m\u001b[0m\u001b[0m\n\u001b[0m\u001b[0;32m      4\u001b[0m \u001b[1;32mfrom\u001b[0m \u001b[1;33m.\u001b[0m \u001b[1;32mimport\u001b[0m \u001b[0mactivations\u001b[0m\u001b[1;33m\u001b[0m\u001b[0m\n\u001b[0;32m      5\u001b[0m \u001b[1;32mfrom\u001b[0m \u001b[1;33m.\u001b[0m \u001b[1;32mimport\u001b[0m \u001b[0mapplications\u001b[0m\u001b[1;33m\u001b[0m\u001b[0m\n",
      "\u001b[1;32m~\\Anaconda3\\lib\\site-packages\\keras\\utils\\__init__.py\u001b[0m in \u001b[0;36m<module>\u001b[1;34m()\u001b[0m\n\u001b[0;32m      4\u001b[0m \u001b[1;32mfrom\u001b[0m \u001b[1;33m.\u001b[0m \u001b[1;32mimport\u001b[0m \u001b[0mdata_utils\u001b[0m\u001b[1;33m\u001b[0m\u001b[0m\n\u001b[0;32m      5\u001b[0m \u001b[1;32mfrom\u001b[0m \u001b[1;33m.\u001b[0m \u001b[1;32mimport\u001b[0m \u001b[0mio_utils\u001b[0m\u001b[1;33m\u001b[0m\u001b[0m\n\u001b[1;32m----> 6\u001b[1;33m \u001b[1;32mfrom\u001b[0m \u001b[1;33m.\u001b[0m \u001b[1;32mimport\u001b[0m \u001b[0mconv_utils\u001b[0m\u001b[1;33m\u001b[0m\u001b[0m\n\u001b[0m\u001b[0;32m      7\u001b[0m \u001b[1;32mfrom\u001b[0m \u001b[1;33m.\u001b[0m \u001b[1;32mimport\u001b[0m \u001b[0mlosses_utils\u001b[0m\u001b[1;33m\u001b[0m\u001b[0m\n\u001b[0;32m      8\u001b[0m \u001b[1;32mfrom\u001b[0m \u001b[1;33m.\u001b[0m \u001b[1;32mimport\u001b[0m \u001b[0mmetrics_utils\u001b[0m\u001b[1;33m\u001b[0m\u001b[0m\n",
      "\u001b[1;32m~\\Anaconda3\\lib\\site-packages\\keras\\utils\\conv_utils.py\u001b[0m in \u001b[0;36m<module>\u001b[1;34m()\u001b[0m\n\u001b[0;32m      7\u001b[0m \u001b[1;32mfrom\u001b[0m \u001b[0msix\u001b[0m\u001b[1;33m.\u001b[0m\u001b[0mmoves\u001b[0m \u001b[1;32mimport\u001b[0m \u001b[0mrange\u001b[0m\u001b[1;33m\u001b[0m\u001b[0m\n\u001b[0;32m      8\u001b[0m \u001b[1;32mimport\u001b[0m \u001b[0mnumpy\u001b[0m \u001b[1;32mas\u001b[0m \u001b[0mnp\u001b[0m\u001b[1;33m\u001b[0m\u001b[0m\n\u001b[1;32m----> 9\u001b[1;33m \u001b[1;32mfrom\u001b[0m \u001b[1;33m.\u001b[0m\u001b[1;33m.\u001b[0m \u001b[1;32mimport\u001b[0m \u001b[0mbackend\u001b[0m \u001b[1;32mas\u001b[0m \u001b[0mK\u001b[0m\u001b[1;33m\u001b[0m\u001b[0m\n\u001b[0m\u001b[0;32m     10\u001b[0m \u001b[1;33m\u001b[0m\u001b[0m\n\u001b[0;32m     11\u001b[0m \u001b[1;33m\u001b[0m\u001b[0m\n",
      "\u001b[1;32m~\\Anaconda3\\lib\\site-packages\\keras\\backend\\__init__.py\u001b[0m in \u001b[0;36m<module>\u001b[1;34m()\u001b[0m\n\u001b[1;32m----> 1\u001b[1;33m \u001b[1;32mfrom\u001b[0m \u001b[1;33m.\u001b[0m\u001b[0mload_backend\u001b[0m \u001b[1;32mimport\u001b[0m \u001b[0mepsilon\u001b[0m\u001b[1;33m\u001b[0m\u001b[0m\n\u001b[0m\u001b[0;32m      2\u001b[0m \u001b[1;32mfrom\u001b[0m \u001b[1;33m.\u001b[0m\u001b[0mload_backend\u001b[0m \u001b[1;32mimport\u001b[0m \u001b[0mset_epsilon\u001b[0m\u001b[1;33m\u001b[0m\u001b[0m\n\u001b[0;32m      3\u001b[0m \u001b[1;32mfrom\u001b[0m \u001b[1;33m.\u001b[0m\u001b[0mload_backend\u001b[0m \u001b[1;32mimport\u001b[0m \u001b[0mfloatx\u001b[0m\u001b[1;33m\u001b[0m\u001b[0m\n\u001b[0;32m      4\u001b[0m \u001b[1;32mfrom\u001b[0m \u001b[1;33m.\u001b[0m\u001b[0mload_backend\u001b[0m \u001b[1;32mimport\u001b[0m \u001b[0mset_floatx\u001b[0m\u001b[1;33m\u001b[0m\u001b[0m\n\u001b[0;32m      5\u001b[0m \u001b[1;32mfrom\u001b[0m \u001b[1;33m.\u001b[0m\u001b[0mload_backend\u001b[0m \u001b[1;32mimport\u001b[0m \u001b[0mcast_to_floatx\u001b[0m\u001b[1;33m\u001b[0m\u001b[0m\n",
      "\u001b[1;32m~\\Anaconda3\\lib\\site-packages\\keras\\backend\\load_backend.py\u001b[0m in \u001b[0;36m<module>\u001b[1;34m()\u001b[0m\n\u001b[0;32m     88\u001b[0m \u001b[1;32melif\u001b[0m \u001b[0m_BACKEND\u001b[0m \u001b[1;33m==\u001b[0m \u001b[1;34m'tensorflow'\u001b[0m\u001b[1;33m:\u001b[0m\u001b[1;33m\u001b[0m\u001b[0m\n\u001b[0;32m     89\u001b[0m     \u001b[0msys\u001b[0m\u001b[1;33m.\u001b[0m\u001b[0mstderr\u001b[0m\u001b[1;33m.\u001b[0m\u001b[0mwrite\u001b[0m\u001b[1;33m(\u001b[0m\u001b[1;34m'Using TensorFlow backend.\\n'\u001b[0m\u001b[1;33m)\u001b[0m\u001b[1;33m\u001b[0m\u001b[0m\n\u001b[1;32m---> 90\u001b[1;33m     \u001b[1;32mfrom\u001b[0m \u001b[1;33m.\u001b[0m\u001b[0mtensorflow_backend\u001b[0m \u001b[1;32mimport\u001b[0m \u001b[1;33m*\u001b[0m\u001b[1;33m\u001b[0m\u001b[0m\n\u001b[0m\u001b[0;32m     91\u001b[0m \u001b[1;32melse\u001b[0m\u001b[1;33m:\u001b[0m\u001b[1;33m\u001b[0m\u001b[0m\n\u001b[0;32m     92\u001b[0m     \u001b[1;31m# Try and load external backend.\u001b[0m\u001b[1;33m\u001b[0m\u001b[1;33m\u001b[0m\u001b[0m\n",
      "\u001b[1;32m~\\Anaconda3\\lib\\site-packages\\keras\\backend\\tensorflow_backend.py\u001b[0m in \u001b[0;36m<module>\u001b[1;34m()\u001b[0m\n\u001b[0;32m      3\u001b[0m \u001b[1;32mfrom\u001b[0m \u001b[0m__future__\u001b[0m \u001b[1;32mimport\u001b[0m \u001b[0mprint_function\u001b[0m\u001b[1;33m\u001b[0m\u001b[0m\n\u001b[0;32m      4\u001b[0m \u001b[1;33m\u001b[0m\u001b[0m\n\u001b[1;32m----> 5\u001b[1;33m \u001b[1;32mimport\u001b[0m \u001b[0mtensorflow\u001b[0m \u001b[1;32mas\u001b[0m \u001b[0mtf\u001b[0m\u001b[1;33m\u001b[0m\u001b[0m\n\u001b[0m\u001b[0;32m      6\u001b[0m \u001b[1;32mfrom\u001b[0m \u001b[0mtensorflow\u001b[0m\u001b[1;33m.\u001b[0m\u001b[0mpython\u001b[0m\u001b[1;33m.\u001b[0m\u001b[0meager\u001b[0m \u001b[1;32mimport\u001b[0m \u001b[0mcontext\u001b[0m\u001b[1;33m\u001b[0m\u001b[0m\n\u001b[0;32m      7\u001b[0m \u001b[1;32mfrom\u001b[0m \u001b[0mtensorflow\u001b[0m\u001b[1;33m.\u001b[0m\u001b[0mpython\u001b[0m\u001b[1;33m.\u001b[0m\u001b[0mframework\u001b[0m \u001b[1;32mimport\u001b[0m \u001b[0mdevice\u001b[0m \u001b[1;32mas\u001b[0m \u001b[0mtfdev\u001b[0m\u001b[1;33m\u001b[0m\u001b[0m\n",
      "\u001b[1;31mModuleNotFoundError\u001b[0m: No module named 'tensorflow'"
     ]
    }
   ],
   "source": [
    "import keras"
   ]
  },
  {
   "cell_type": "code",
   "execution_count": 25,
   "metadata": {},
   "outputs": [],
   "source": [
    "weather = pd.read_csv(\"weather-daily.csv\")"
   ]
  },
  {
   "cell_type": "code",
   "execution_count": 26,
   "metadata": {},
   "outputs": [
    {
     "data": {
      "text/html": [
       "<div>\n",
       "<style scoped>\n",
       "    .dataframe tbody tr th:only-of-type {\n",
       "        vertical-align: middle;\n",
       "    }\n",
       "\n",
       "    .dataframe tbody tr th {\n",
       "        vertical-align: top;\n",
       "    }\n",
       "\n",
       "    .dataframe thead th {\n",
       "        text-align: right;\n",
       "    }\n",
       "</style>\n",
       "<table border=\"1\" class=\"dataframe\">\n",
       "  <thead>\n",
       "    <tr style=\"text-align: right;\">\n",
       "      <th></th>\n",
       "      <th>Date</th>\n",
       "      <th>Cloud coverage</th>\n",
       "      <th>Visibility</th>\n",
       "      <th>Temperature</th>\n",
       "      <th>Dew point</th>\n",
       "      <th>Relative humidity</th>\n",
       "      <th>Wind speed</th>\n",
       "      <th>Station pressure</th>\n",
       "      <th>Altimeter</th>\n",
       "      <th>Solar energy</th>\n",
       "      <th>(Inverters)</th>\n",
       "    </tr>\n",
       "  </thead>\n",
       "  <tbody>\n",
       "    <tr>\n",
       "      <th>0</th>\n",
       "      <td>01-02-16</td>\n",
       "      <td>0.103750</td>\n",
       "      <td>9.447917</td>\n",
       "      <td>3.113750</td>\n",
       "      <td>0.321667</td>\n",
       "      <td>79.454583</td>\n",
       "      <td>4.694583</td>\n",
       "      <td>29.228750</td>\n",
       "      <td>30.019583</td>\n",
       "      <td>20256</td>\n",
       "      <td>NaN</td>\n",
       "    </tr>\n",
       "    <tr>\n",
       "      <th>1</th>\n",
       "      <td>02-02-16</td>\n",
       "      <td>0.798333</td>\n",
       "      <td>3.941250</td>\n",
       "      <td>6.992500</td>\n",
       "      <td>6.215417</td>\n",
       "      <td>93.597500</td>\n",
       "      <td>13.290833</td>\n",
       "      <td>28.911667</td>\n",
       "      <td>29.697917</td>\n",
       "      <td>1761</td>\n",
       "      <td>NaN</td>\n",
       "    </tr>\n",
       "    <tr>\n",
       "      <th>2</th>\n",
       "      <td>03-02-16</td>\n",
       "      <td>0.864583</td>\n",
       "      <td>8.699583</td>\n",
       "      <td>1.615000</td>\n",
       "      <td>0.022917</td>\n",
       "      <td>85.001667</td>\n",
       "      <td>16.726250</td>\n",
       "      <td>29.026667</td>\n",
       "      <td>29.814583</td>\n",
       "      <td>2775</td>\n",
       "      <td>NaN</td>\n",
       "    </tr>\n",
       "    <tr>\n",
       "      <th>3</th>\n",
       "      <td>04-02-16</td>\n",
       "      <td>0.372917</td>\n",
       "      <td>10.000000</td>\n",
       "      <td>-2.472500</td>\n",
       "      <td>-5.886250</td>\n",
       "      <td>74.522500</td>\n",
       "      <td>9.455417</td>\n",
       "      <td>29.455000</td>\n",
       "      <td>30.254583</td>\n",
       "      <td>28695</td>\n",
       "      <td>NaN</td>\n",
       "    </tr>\n",
       "    <tr>\n",
       "      <th>4</th>\n",
       "      <td>05-02-16</td>\n",
       "      <td>0.515417</td>\n",
       "      <td>9.206667</td>\n",
       "      <td>-2.002917</td>\n",
       "      <td>-4.152083</td>\n",
       "      <td>82.027500</td>\n",
       "      <td>5.920000</td>\n",
       "      <td>29.550833</td>\n",
       "      <td>30.351250</td>\n",
       "      <td>9517</td>\n",
       "      <td>NaN</td>\n",
       "    </tr>\n",
       "  </tbody>\n",
       "</table>\n",
       "</div>"
      ],
      "text/plain": [
       "       Date  Cloud coverage  Visibility  Temperature  Dew point  \\\n",
       "0  01-02-16        0.103750    9.447917     3.113750   0.321667   \n",
       "1  02-02-16        0.798333    3.941250     6.992500   6.215417   \n",
       "2  03-02-16        0.864583    8.699583     1.615000   0.022917   \n",
       "3  04-02-16        0.372917   10.000000    -2.472500  -5.886250   \n",
       "4  05-02-16        0.515417    9.206667    -2.002917  -4.152083   \n",
       "\n",
       "   Relative humidity  Wind speed  Station pressure  Altimeter  Solar energy  \\\n",
       "0          79.454583    4.694583         29.228750  30.019583         20256   \n",
       "1          93.597500   13.290833         28.911667  29.697917          1761   \n",
       "2          85.001667   16.726250         29.026667  29.814583          2775   \n",
       "3          74.522500    9.455417         29.455000  30.254583         28695   \n",
       "4          82.027500    5.920000         29.550833  30.351250          9517   \n",
       "\n",
       "   (Inverters)  \n",
       "0          NaN  \n",
       "1          NaN  \n",
       "2          NaN  \n",
       "3          NaN  \n",
       "4          NaN  "
      ]
     },
     "execution_count": 26,
     "metadata": {},
     "output_type": "execute_result"
    }
   ],
   "source": [
    "weather.head(5)"
   ]
  },
  {
   "cell_type": "code",
   "execution_count": 27,
   "metadata": {},
   "outputs": [],
   "source": [
    "#normalizing dependent variable values to be between 0 and 1\n",
    "def normalize_data(dataset, data_min, data_max):\n",
    "    data_std = (dataset - data_min) / (data_max - data_min)\n",
    "    test_scaled = data_std * (np.amax(data_std) - np.amin(data_std)) + np.amin(data_std)\n",
    "    return test_scaled"
   ]
  },
  {
   "cell_type": "code",
   "execution_count": 28,
   "metadata": {},
   "outputs": [],
   "source": [
    "#importing data\n",
    "def import_data(train_dataframe, dev_dataframe, test_dataframe):\n",
    "    dataset = train_dataframe.values\n",
    "    dataset = dataset.astype('float32')"
   ]
  },
  {
   "cell_type": "code",
   "execution_count": 32,
   "metadata": {},
   "outputs": [
    {
     "data": {
      "text/plain": [
       "Index(['Date', 'Cloud coverage', 'Visibility', 'Temperature', 'Dew point',\n",
       "       'Relative humidity', 'Wind speed', 'Station pressure', 'Altimeter',\n",
       "       'Solar energy', '(Inverters)'],\n",
       "      dtype='object')"
      ]
     },
     "execution_count": 32,
     "metadata": {},
     "output_type": "execute_result"
    }
   ],
   "source": [
    "weather.columns"
   ]
  },
  {
   "cell_type": "code",
   "execution_count": 34,
   "metadata": {},
   "outputs": [],
   "source": [
    "df = pd.DataFrame(weather, columns = ['Date', 'Cloud coverage', 'Visibility', 'Temperature', 'Dew point',\n",
    "       'Relative humidity', 'Wind speed', 'Station pressure', 'Altimeter',\n",
    "       'Solar energy', '(Inverters)']) "
   ]
  },
  {
   "cell_type": "code",
   "execution_count": 37,
   "metadata": {},
   "outputs": [],
   "source": [
    "#seperating day, month and year\n",
    "df['Day'] = pd.DatetimeIndex(df['Date']).day\n",
    "df['Month'] = pd.DatetimeIndex(df['Date']).month\n",
    "df['Year'] = pd.DatetimeIndex(df['Date']).year"
   ]
  },
  {
   "cell_type": "code",
   "execution_count": 40,
   "metadata": {},
   "outputs": [
    {
     "data": {
      "text/html": [
       "<div>\n",
       "<style scoped>\n",
       "    .dataframe tbody tr th:only-of-type {\n",
       "        vertical-align: middle;\n",
       "    }\n",
       "\n",
       "    .dataframe tbody tr th {\n",
       "        vertical-align: top;\n",
       "    }\n",
       "\n",
       "    .dataframe thead th {\n",
       "        text-align: right;\n",
       "    }\n",
       "</style>\n",
       "<table border=\"1\" class=\"dataframe\">\n",
       "  <thead>\n",
       "    <tr style=\"text-align: right;\">\n",
       "      <th></th>\n",
       "      <th>Date</th>\n",
       "      <th>Cloud coverage</th>\n",
       "      <th>Visibility</th>\n",
       "      <th>Temperature</th>\n",
       "      <th>Dew point</th>\n",
       "      <th>Relative humidity</th>\n",
       "      <th>Wind speed</th>\n",
       "      <th>Station pressure</th>\n",
       "      <th>Altimeter</th>\n",
       "      <th>Solar energy</th>\n",
       "      <th>(Inverters)</th>\n",
       "      <th>Day</th>\n",
       "      <th>Month</th>\n",
       "      <th>Year</th>\n",
       "    </tr>\n",
       "  </thead>\n",
       "  <tbody>\n",
       "    <tr>\n",
       "      <th>0</th>\n",
       "      <td>01-02-16</td>\n",
       "      <td>0.103750</td>\n",
       "      <td>9.447917</td>\n",
       "      <td>3.113750</td>\n",
       "      <td>0.321667</td>\n",
       "      <td>79.454583</td>\n",
       "      <td>4.694583</td>\n",
       "      <td>29.228750</td>\n",
       "      <td>30.019583</td>\n",
       "      <td>20256</td>\n",
       "      <td>NaN</td>\n",
       "      <td>2</td>\n",
       "      <td>1</td>\n",
       "      <td>2016</td>\n",
       "    </tr>\n",
       "    <tr>\n",
       "      <th>1</th>\n",
       "      <td>02-02-16</td>\n",
       "      <td>0.798333</td>\n",
       "      <td>3.941250</td>\n",
       "      <td>6.992500</td>\n",
       "      <td>6.215417</td>\n",
       "      <td>93.597500</td>\n",
       "      <td>13.290833</td>\n",
       "      <td>28.911667</td>\n",
       "      <td>29.697917</td>\n",
       "      <td>1761</td>\n",
       "      <td>NaN</td>\n",
       "      <td>2</td>\n",
       "      <td>2</td>\n",
       "      <td>2016</td>\n",
       "    </tr>\n",
       "    <tr>\n",
       "      <th>2</th>\n",
       "      <td>03-02-16</td>\n",
       "      <td>0.864583</td>\n",
       "      <td>8.699583</td>\n",
       "      <td>1.615000</td>\n",
       "      <td>0.022917</td>\n",
       "      <td>85.001667</td>\n",
       "      <td>16.726250</td>\n",
       "      <td>29.026667</td>\n",
       "      <td>29.814583</td>\n",
       "      <td>2775</td>\n",
       "      <td>NaN</td>\n",
       "      <td>2</td>\n",
       "      <td>3</td>\n",
       "      <td>2016</td>\n",
       "    </tr>\n",
       "    <tr>\n",
       "      <th>3</th>\n",
       "      <td>04-02-16</td>\n",
       "      <td>0.372917</td>\n",
       "      <td>10.000000</td>\n",
       "      <td>-2.472500</td>\n",
       "      <td>-5.886250</td>\n",
       "      <td>74.522500</td>\n",
       "      <td>9.455417</td>\n",
       "      <td>29.455000</td>\n",
       "      <td>30.254583</td>\n",
       "      <td>28695</td>\n",
       "      <td>NaN</td>\n",
       "      <td>2</td>\n",
       "      <td>4</td>\n",
       "      <td>2016</td>\n",
       "    </tr>\n",
       "    <tr>\n",
       "      <th>4</th>\n",
       "      <td>05-02-16</td>\n",
       "      <td>0.515417</td>\n",
       "      <td>9.206667</td>\n",
       "      <td>-2.002917</td>\n",
       "      <td>-4.152083</td>\n",
       "      <td>82.027500</td>\n",
       "      <td>5.920000</td>\n",
       "      <td>29.550833</td>\n",
       "      <td>30.351250</td>\n",
       "      <td>9517</td>\n",
       "      <td>NaN</td>\n",
       "      <td>2</td>\n",
       "      <td>5</td>\n",
       "      <td>2016</td>\n",
       "    </tr>\n",
       "  </tbody>\n",
       "</table>\n",
       "</div>"
      ],
      "text/plain": [
       "       Date  Cloud coverage  Visibility  Temperature  Dew point  \\\n",
       "0  01-02-16        0.103750    9.447917     3.113750   0.321667   \n",
       "1  02-02-16        0.798333    3.941250     6.992500   6.215417   \n",
       "2  03-02-16        0.864583    8.699583     1.615000   0.022917   \n",
       "3  04-02-16        0.372917   10.000000    -2.472500  -5.886250   \n",
       "4  05-02-16        0.515417    9.206667    -2.002917  -4.152083   \n",
       "\n",
       "   Relative humidity  Wind speed  Station pressure  Altimeter  Solar energy  \\\n",
       "0          79.454583    4.694583         29.228750  30.019583         20256   \n",
       "1          93.597500   13.290833         28.911667  29.697917          1761   \n",
       "2          85.001667   16.726250         29.026667  29.814583          2775   \n",
       "3          74.522500    9.455417         29.455000  30.254583         28695   \n",
       "4          82.027500    5.920000         29.550833  30.351250          9517   \n",
       "\n",
       "   (Inverters)  Day  Month  Year  \n",
       "0          NaN    2      1  2016  \n",
       "1          NaN    2      2  2016  \n",
       "2          NaN    2      3  2016  \n",
       "3          NaN    2      4  2016  \n",
       "4          NaN    2      5  2016  "
      ]
     },
     "execution_count": 40,
     "metadata": {},
     "output_type": "execute_result"
    }
   ],
   "source": [
    "df.head(5)"
   ]
  },
  {
   "cell_type": "code",
   "execution_count": 41,
   "metadata": {},
   "outputs": [
    {
     "data": {
      "text/plain": [
       "Index(['Date', 'Cloud coverage', 'Visibility', 'Temperature', 'Dew point',\n",
       "       'Relative humidity', 'Wind speed', 'Station pressure', 'Altimeter',\n",
       "       'Solar energy', '(Inverters)', 'Day', 'Month', 'Year'],\n",
       "      dtype='object')"
      ]
     },
     "execution_count": 41,
     "metadata": {},
     "output_type": "execute_result"
    }
   ],
   "source": [
    "df.columns"
   ]
  },
  {
   "cell_type": "code",
   "execution_count": 55,
   "metadata": {},
   "outputs": [],
   "source": [
    "X=df.iloc[:, 0:15]"
   ]
  },
  {
   "cell_type": "code",
   "execution_count": 56,
   "metadata": {},
   "outputs": [],
   "source": [
    "X.drop([\"(Inverters)\",\"Date\"], axis = 1, inplace = True) "
   ]
  },
  {
   "cell_type": "code",
   "execution_count": 66,
   "metadata": {},
   "outputs": [
    {
     "data": {
      "text/html": [
       "<div>\n",
       "<style scoped>\n",
       "    .dataframe tbody tr th:only-of-type {\n",
       "        vertical-align: middle;\n",
       "    }\n",
       "\n",
       "    .dataframe tbody tr th {\n",
       "        vertical-align: top;\n",
       "    }\n",
       "\n",
       "    .dataframe thead th {\n",
       "        text-align: right;\n",
       "    }\n",
       "</style>\n",
       "<table border=\"1\" class=\"dataframe\">\n",
       "  <thead>\n",
       "    <tr style=\"text-align: right;\">\n",
       "      <th></th>\n",
       "      <th>Cloud coverage</th>\n",
       "      <th>Visibility</th>\n",
       "      <th>Temperature</th>\n",
       "      <th>Dew point</th>\n",
       "      <th>Relative humidity</th>\n",
       "      <th>Wind speed</th>\n",
       "      <th>Station pressure</th>\n",
       "      <th>Altimeter</th>\n",
       "      <th>Solar energy</th>\n",
       "      <th>Day</th>\n",
       "      <th>Month</th>\n",
       "      <th>Year</th>\n",
       "    </tr>\n",
       "  </thead>\n",
       "  <tbody>\n",
       "    <tr>\n",
       "      <th>0</th>\n",
       "      <td>0.103750</td>\n",
       "      <td>9.447917</td>\n",
       "      <td>3.113750</td>\n",
       "      <td>0.321667</td>\n",
       "      <td>79.454583</td>\n",
       "      <td>4.694583</td>\n",
       "      <td>29.228750</td>\n",
       "      <td>30.019583</td>\n",
       "      <td>20256</td>\n",
       "      <td>2</td>\n",
       "      <td>1</td>\n",
       "      <td>2016</td>\n",
       "    </tr>\n",
       "    <tr>\n",
       "      <th>1</th>\n",
       "      <td>0.798333</td>\n",
       "      <td>3.941250</td>\n",
       "      <td>6.992500</td>\n",
       "      <td>6.215417</td>\n",
       "      <td>93.597500</td>\n",
       "      <td>13.290833</td>\n",
       "      <td>28.911667</td>\n",
       "      <td>29.697917</td>\n",
       "      <td>1761</td>\n",
       "      <td>2</td>\n",
       "      <td>2</td>\n",
       "      <td>2016</td>\n",
       "    </tr>\n",
       "    <tr>\n",
       "      <th>2</th>\n",
       "      <td>0.864583</td>\n",
       "      <td>8.699583</td>\n",
       "      <td>1.615000</td>\n",
       "      <td>0.022917</td>\n",
       "      <td>85.001667</td>\n",
       "      <td>16.726250</td>\n",
       "      <td>29.026667</td>\n",
       "      <td>29.814583</td>\n",
       "      <td>2775</td>\n",
       "      <td>2</td>\n",
       "      <td>3</td>\n",
       "      <td>2016</td>\n",
       "    </tr>\n",
       "    <tr>\n",
       "      <th>3</th>\n",
       "      <td>0.372917</td>\n",
       "      <td>10.000000</td>\n",
       "      <td>-2.472500</td>\n",
       "      <td>-5.886250</td>\n",
       "      <td>74.522500</td>\n",
       "      <td>9.455417</td>\n",
       "      <td>29.455000</td>\n",
       "      <td>30.254583</td>\n",
       "      <td>28695</td>\n",
       "      <td>2</td>\n",
       "      <td>4</td>\n",
       "      <td>2016</td>\n",
       "    </tr>\n",
       "    <tr>\n",
       "      <th>4</th>\n",
       "      <td>0.515417</td>\n",
       "      <td>9.206667</td>\n",
       "      <td>-2.002917</td>\n",
       "      <td>-4.152083</td>\n",
       "      <td>82.027500</td>\n",
       "      <td>5.920000</td>\n",
       "      <td>29.550833</td>\n",
       "      <td>30.351250</td>\n",
       "      <td>9517</td>\n",
       "      <td>2</td>\n",
       "      <td>5</td>\n",
       "      <td>2016</td>\n",
       "    </tr>\n",
       "  </tbody>\n",
       "</table>\n",
       "</div>"
      ],
      "text/plain": [
       "   Cloud coverage  Visibility  Temperature  Dew point  Relative humidity  \\\n",
       "0        0.103750    9.447917     3.113750   0.321667          79.454583   \n",
       "1        0.798333    3.941250     6.992500   6.215417          93.597500   \n",
       "2        0.864583    8.699583     1.615000   0.022917          85.001667   \n",
       "3        0.372917   10.000000    -2.472500  -5.886250          74.522500   \n",
       "4        0.515417    9.206667    -2.002917  -4.152083          82.027500   \n",
       "\n",
       "   Wind speed  Station pressure  Altimeter  Solar energy  Day  Month  Year  \n",
       "0    4.694583         29.228750  30.019583         20256    2      1  2016  \n",
       "1   13.290833         28.911667  29.697917          1761    2      2  2016  \n",
       "2   16.726250         29.026667  29.814583          2775    2      3  2016  \n",
       "3    9.455417         29.455000  30.254583         28695    2      4  2016  \n",
       "4    5.920000         29.550833  30.351250          9517    2      5  2016  "
      ]
     },
     "execution_count": 66,
     "metadata": {},
     "output_type": "execute_result"
    }
   ],
   "source": [
    "X.head(5)"
   ]
  },
  {
   "cell_type": "code",
   "execution_count": 69,
   "metadata": {},
   "outputs": [],
   "source": [
    "#df_norm = (df - df.mean()) / (df.max() - df.min())\n",
    "#training data\n",
    "train_data = X.iloc[:,0:11]\n",
    "train_labels = X.iloc[:,11]\n"
   ]
  },
  {
   "cell_type": "code",
   "execution_count": null,
   "metadata": {},
   "outputs": [],
   "source": []
  }
 ],
 "metadata": {
  "kernelspec": {
   "display_name": "Python 3",
   "language": "python",
   "name": "python3"
  },
  "language_info": {
   "codemirror_mode": {
    "name": "ipython",
    "version": 3
   },
   "file_extension": ".py",
   "mimetype": "text/x-python",
   "name": "python",
   "nbconvert_exporter": "python",
   "pygments_lexer": "ipython3",
   "version": "3.6.5"
  }
 },
 "nbformat": 4,
 "nbformat_minor": 2
}

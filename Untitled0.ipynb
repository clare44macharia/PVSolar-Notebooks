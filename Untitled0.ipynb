{
 "cells": [
  {
   "cell_type": "code",
   "execution_count": null,
   "metadata": {
    "colab": {},
    "colab_type": "code",
    "id": "Z142VBUHmHMf"
   },
   "outputs": [],
   "source": [
    "import keras"
   ]
  },
  {
   "cell_type": "code",
   "execution_count": 0,
   "metadata": {
    "colab": {},
    "colab_type": "code",
    "id": "VFAJuf-O7KTJ"
   },
   "outputs": [],
   "source": [
    "from keras.optimizers import SGD"
   ]
  },
  {
   "cell_type": "code",
   "execution_count": 0,
   "metadata": {
    "colab": {},
    "colab_type": "code",
    "id": "OE8xqxeJmMYf"
   },
   "outputs": [],
   "source": [
    "import pandas as pd\n",
    "import numpy as np"
   ]
  },
  {
   "cell_type": "code",
   "execution_count": 0,
   "metadata": {
    "colab": {},
    "colab_type": "code",
    "id": "FljDMakhwlMq"
   },
   "outputs": [],
   "source": [
    "import theano"
   ]
  },
  {
   "cell_type": "code",
   "execution_count": 0,
   "metadata": {
    "colab": {},
    "colab_type": "code",
    "id": "YKOGEW2YxnKK"
   },
   "outputs": [],
   "source": [
    "from keras import optimizers"
   ]
  },
  {
   "cell_type": "code",
   "execution_count": 0,
   "metadata": {
    "colab": {},
    "colab_type": "code",
    "id": "MqzBLdFNvY3p"
   },
   "outputs": [],
   "source": [
    "from keras.models import Sequential\n",
    "from keras.layers import Dense, Activation\n",
    "from keras.wrappers.scikit_learn import KerasClassifier\n",
    "import keras.utils\n",
    "import keras.layers\n",
    "from sklearn.model_selection import KFold\n",
    "from sklearn.model_selection import cross_val_score\n",
    "from sklearn.model_selection import GridSearchCV\n",
    "from sklearn.ensemble import AdaBoostClassifier"
   ]
  },
  {
   "cell_type": "code",
   "execution_count": 393,
   "metadata": {
    "colab": {
     "base_uri": "https://localhost:8080/",
     "height": 74,
     "resources": {
      "http://localhost:8080/nbextensions/google.colab/files.js": {
       "data": "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",
       "headers": [
        [
         "content-type",
         "application/javascript"
        ]
       ],
       "ok": true,
       "status": 200,
       "status_text": "OK"
      }
     }
    },
    "colab_type": "code",
    "id": "XG0aNapOmbFf",
    "outputId": "d7a36e54-9133-4448-e8eb-e12818328280"
   },
   "outputs": [
    {
     "data": {
      "text/html": [
       "\n",
       "     <input type=\"file\" id=\"files-68a451fa-f106-4565-b13e-142881cf4b27\" name=\"files[]\" multiple disabled />\n",
       "     <output id=\"result-68a451fa-f106-4565-b13e-142881cf4b27\">\n",
       "      Upload widget is only available when the cell has been executed in the\n",
       "      current browser session. Please rerun this cell to enable.\n",
       "      </output>\n",
       "      <script src=\"/nbextensions/google.colab/files.js\"></script> "
      ],
      "text/plain": [
       "<IPython.core.display.HTML object>"
      ]
     },
     "metadata": {
      "tags": []
     },
     "output_type": "display_data"
    },
    {
     "name": "stdout",
     "output_type": "stream",
     "text": [
      "Saving weather-daily.csv to weather-daily (3).csv\n"
     ]
    }
   ],
   "source": [
    "from google.colab import files\n",
    "uploaded = files.upload()"
   ]
  },
  {
   "cell_type": "code",
   "execution_count": 0,
   "metadata": {
    "colab": {},
    "colab_type": "code",
    "id": "jouyNhB1nA0n"
   },
   "outputs": [],
   "source": [
    "import io\n",
    "weather = pd.read_csv(io.BytesIO(uploaded['weather-daily.csv']))"
   ]
  },
  {
   "cell_type": "code",
   "execution_count": 395,
   "metadata": {
    "colab": {
     "base_uri": "https://localhost:8080/",
     "height": 206
    },
    "colab_type": "code",
    "id": "FlL_BI08nkNl",
    "outputId": "7b97fa14-7d7e-4bc5-e790-f45cd15a4893"
   },
   "outputs": [
    {
     "data": {
      "text/html": [
       "<div>\n",
       "<style scoped>\n",
       "    .dataframe tbody tr th:only-of-type {\n",
       "        vertical-align: middle;\n",
       "    }\n",
       "\n",
       "    .dataframe tbody tr th {\n",
       "        vertical-align: top;\n",
       "    }\n",
       "\n",
       "    .dataframe thead th {\n",
       "        text-align: right;\n",
       "    }\n",
       "</style>\n",
       "<table border=\"1\" class=\"dataframe\">\n",
       "  <thead>\n",
       "    <tr style=\"text-align: right;\">\n",
       "      <th></th>\n",
       "      <th>Date</th>\n",
       "      <th>Cloud coverage</th>\n",
       "      <th>Visibility</th>\n",
       "      <th>Temperature</th>\n",
       "      <th>Dew point</th>\n",
       "      <th>Relative humidity</th>\n",
       "      <th>Wind speed</th>\n",
       "      <th>Station pressure</th>\n",
       "      <th>Altimeter</th>\n",
       "      <th>Solar energy</th>\n",
       "      <th>(Inverters)</th>\n",
       "    </tr>\n",
       "  </thead>\n",
       "  <tbody>\n",
       "    <tr>\n",
       "      <th>0</th>\n",
       "      <td>01-02-16</td>\n",
       "      <td>0.103750</td>\n",
       "      <td>9.447917</td>\n",
       "      <td>3.113750</td>\n",
       "      <td>0.321667</td>\n",
       "      <td>79.454583</td>\n",
       "      <td>4.694583</td>\n",
       "      <td>29.228750</td>\n",
       "      <td>30.019583</td>\n",
       "      <td>20256</td>\n",
       "      <td>NaN</td>\n",
       "    </tr>\n",
       "    <tr>\n",
       "      <th>1</th>\n",
       "      <td>02-02-16</td>\n",
       "      <td>0.798333</td>\n",
       "      <td>3.941250</td>\n",
       "      <td>6.992500</td>\n",
       "      <td>6.215417</td>\n",
       "      <td>93.597500</td>\n",
       "      <td>13.290833</td>\n",
       "      <td>28.911667</td>\n",
       "      <td>29.697917</td>\n",
       "      <td>1761</td>\n",
       "      <td>NaN</td>\n",
       "    </tr>\n",
       "    <tr>\n",
       "      <th>2</th>\n",
       "      <td>03-02-16</td>\n",
       "      <td>0.864583</td>\n",
       "      <td>8.699583</td>\n",
       "      <td>1.615000</td>\n",
       "      <td>0.022917</td>\n",
       "      <td>85.001667</td>\n",
       "      <td>16.726250</td>\n",
       "      <td>29.026667</td>\n",
       "      <td>29.814583</td>\n",
       "      <td>2775</td>\n",
       "      <td>NaN</td>\n",
       "    </tr>\n",
       "    <tr>\n",
       "      <th>3</th>\n",
       "      <td>04-02-16</td>\n",
       "      <td>0.372917</td>\n",
       "      <td>10.000000</td>\n",
       "      <td>-2.472500</td>\n",
       "      <td>-5.886250</td>\n",
       "      <td>74.522500</td>\n",
       "      <td>9.455417</td>\n",
       "      <td>29.455000</td>\n",
       "      <td>30.254583</td>\n",
       "      <td>28695</td>\n",
       "      <td>NaN</td>\n",
       "    </tr>\n",
       "    <tr>\n",
       "      <th>4</th>\n",
       "      <td>05-02-16</td>\n",
       "      <td>0.515417</td>\n",
       "      <td>9.206667</td>\n",
       "      <td>-2.002917</td>\n",
       "      <td>-4.152083</td>\n",
       "      <td>82.027500</td>\n",
       "      <td>5.920000</td>\n",
       "      <td>29.550833</td>\n",
       "      <td>30.351250</td>\n",
       "      <td>9517</td>\n",
       "      <td>NaN</td>\n",
       "    </tr>\n",
       "  </tbody>\n",
       "</table>\n",
       "</div>"
      ],
      "text/plain": [
       "       Date  Cloud coverage  Visibility  ...  Altimeter  Solar energy  (Inverters)\n",
       "0  01-02-16        0.103750    9.447917  ...  30.019583         20256          NaN\n",
       "1  02-02-16        0.798333    3.941250  ...  29.697917          1761          NaN\n",
       "2  03-02-16        0.864583    8.699583  ...  29.814583          2775          NaN\n",
       "3  04-02-16        0.372917   10.000000  ...  30.254583         28695          NaN\n",
       "4  05-02-16        0.515417    9.206667  ...  30.351250          9517          NaN\n",
       "\n",
       "[5 rows x 11 columns]"
      ]
     },
     "execution_count": 395,
     "metadata": {
      "tags": []
     },
     "output_type": "execute_result"
    }
   ],
   "source": [
    "weather.head(5)"
   ]
  },
  {
   "cell_type": "code",
   "execution_count": 396,
   "metadata": {
    "colab": {
     "base_uri": "https://localhost:8080/",
     "height": 35
    },
    "colab_type": "code",
    "id": "CxQ07VACo0Vc",
    "outputId": "bba98d8f-fd92-4259-dc1f-bbbd09dbea43"
   },
   "outputs": [
    {
     "data": {
      "text/plain": [
       "(637, 11)"
      ]
     },
     "execution_count": 396,
     "metadata": {
      "tags": []
     },
     "output_type": "execute_result"
    }
   ],
   "source": [
    "weather.shape"
   ]
  },
  {
   "cell_type": "code",
   "execution_count": 0,
   "metadata": {
    "colab": {},
    "colab_type": "code",
    "id": "tsq6Y-Fbo38f"
   },
   "outputs": [],
   "source": [
    "df = pd.DataFrame(weather, columns = ['Date', 'Cloud coverage', 'Visibility', 'Temperature', 'Dew point',\n",
    "       'Relative humidity', 'Wind speed', 'Station pressure', 'Altimeter',\n",
    "       'Solar energy', '(Inverters)']) "
   ]
  },
  {
   "cell_type": "code",
   "execution_count": 0,
   "metadata": {
    "colab": {},
    "colab_type": "code",
    "id": "A4aSDQBqo643"
   },
   "outputs": [],
   "source": [
    "#seperating day, month and year\n",
    "df['Day'] = pd.DatetimeIndex(df['Date']).day\n",
    "df['Month'] = pd.DatetimeIndex(df['Date']).month\n",
    "df['Year'] = pd.DatetimeIndex(df['Date']).year"
   ]
  },
  {
   "cell_type": "code",
   "execution_count": 399,
   "metadata": {
    "colab": {
     "base_uri": "https://localhost:8080/",
     "height": 35
    },
    "colab_type": "code",
    "id": "LvoXKXfxo-NQ",
    "outputId": "f6276fb8-e308-4c75-8a30-db09f4ee476c"
   },
   "outputs": [
    {
     "data": {
      "text/plain": [
       "(637, 14)"
      ]
     },
     "execution_count": 399,
     "metadata": {
      "tags": []
     },
     "output_type": "execute_result"
    }
   ],
   "source": [
    "df.shape"
   ]
  },
  {
   "cell_type": "code",
   "execution_count": 400,
   "metadata": {
    "colab": {
     "base_uri": "https://localhost:8080/",
     "height": 90
    },
    "colab_type": "code",
    "id": "jhT9TlXPpDRM",
    "outputId": "775132b0-4ecb-4cc4-ef08-93f05052e072"
   },
   "outputs": [
    {
     "data": {
      "text/plain": [
       "Index(['Date', 'Cloud coverage', 'Visibility', 'Temperature', 'Dew point',\n",
       "       'Relative humidity', 'Wind speed', 'Station pressure', 'Altimeter',\n",
       "       'Solar energy', '(Inverters)', 'Day', 'Month', 'Year'],\n",
       "      dtype='object')"
      ]
     },
     "execution_count": 400,
     "metadata": {
      "tags": []
     },
     "output_type": "execute_result"
    }
   ],
   "source": [
    "df.columns"
   ]
  },
  {
   "cell_type": "code",
   "execution_count": 0,
   "metadata": {
    "colab": {},
    "colab_type": "code",
    "id": "pVXvp--xpSNQ"
   },
   "outputs": [],
   "source": [
    "X=df.iloc[:, 0:15]"
   ]
  },
  {
   "cell_type": "code",
   "execution_count": 0,
   "metadata": {
    "colab": {},
    "colab_type": "code",
    "id": "Idi0ggwrpV-J"
   },
   "outputs": [],
   "source": [
    "X.drop([\"(Inverters)\",\"Date\"], axis = 1, inplace = True) "
   ]
  },
  {
   "cell_type": "code",
   "execution_count": 403,
   "metadata": {
    "colab": {
     "base_uri": "https://localhost:8080/",
     "height": 35
    },
    "colab_type": "code",
    "id": "JRCh19JOpYb-",
    "outputId": "09a94973-4bad-4f65-a414-bf02a990e8cc"
   },
   "outputs": [
    {
     "data": {
      "text/plain": [
       "(637, 12)"
      ]
     },
     "execution_count": 403,
     "metadata": {
      "tags": []
     },
     "output_type": "execute_result"
    }
   ],
   "source": [
    "X.shape"
   ]
  },
  {
   "cell_type": "code",
   "execution_count": 0,
   "metadata": {
    "colab": {},
    "colab_type": "code",
    "id": "WZyUJ8It3gFJ"
   },
   "outputs": [],
   "source": [
    "columns = (['Cloud coverage', 'Visibility', 'Temperature', 'Dew point',\n",
    "       'Relative humidity', 'Wind speed', 'Station pressure', 'Altimeter',\n",
    "       'Day', 'Month', 'Year','Solar energy'])"
   ]
  },
  {
   "cell_type": "code",
   "execution_count": 0,
   "metadata": {
    "colab": {},
    "colab_type": "code",
    "id": "Niani9S8sqqW"
   },
   "outputs": [],
   "source": [
    "Y = pd.DataFrame(X, columns=columns)"
   ]
  },
  {
   "cell_type": "code",
   "execution_count": 408,
   "metadata": {
    "colab": {
     "base_uri": "https://localhost:8080/",
     "height": 35
    },
    "colab_type": "code",
    "id": "Nj_mgmQDuNzO",
    "outputId": "c5295e1a-dbdf-4d63-fcf4-dc87ab351f69"
   },
   "outputs": [
    {
     "data": {
      "text/plain": [
       "(637, 12)"
      ]
     },
     "execution_count": 408,
     "metadata": {
      "tags": []
     },
     "output_type": "execute_result"
    }
   ],
   "source": [
    "Y.shape"
   ]
  },
  {
   "cell_type": "code",
   "execution_count": 0,
   "metadata": {
    "colab": {},
    "colab_type": "code",
    "id": "RDt7hR79hLaP"
   },
   "outputs": [],
   "source": [
    "# train and test data\n",
    "from sklearn.model_selection import train_test_split\n",
    "X_train, X_test, y_train, y_test = train_test_split(X, Y, test_size=0.33, random_state=42)\n",
    "#train_test_split(X, y, test_size=0.33, random_state=42)\n"
   ]
  },
  {
   "cell_type": "code",
   "execution_count": 0,
   "metadata": {
    "colab": {},
    "colab_type": "code",
    "id": "GeT-HmJuwgfq"
   },
   "outputs": [],
   "source": [
    "model = keras.Sequential()"
   ]
  },
  {
   "cell_type": "code",
   "execution_count": 0,
   "metadata": {
    "colab": {},
    "colab_type": "code",
    "id": "bxLW6bVKX1Zp"
   },
   "outputs": [],
   "source": [
    "#model.add(Dense(64, input_shape=(784,)))"
   ]
  },
  {
   "cell_type": "code",
   "execution_count": 411,
   "metadata": {
    "colab": {
     "base_uri": "https://localhost:8080/",
     "height": 90
    },
    "colab_type": "code",
    "id": "7WvX2ghFYub5",
    "outputId": "9e0b0032-7b52-4df4-b310-aa03124862c1"
   },
   "outputs": [
    {
     "data": {
      "text/plain": [
       "Index(['Cloud coverage', 'Visibility', 'Temperature', 'Dew point',\n",
       "       'Relative humidity', 'Wind speed', 'Station pressure', 'Altimeter',\n",
       "       'Solar energy', 'Day', 'Month', 'Year'],\n",
       "      dtype='object')"
      ]
     },
     "execution_count": 411,
     "metadata": {
      "tags": []
     },
     "output_type": "execute_result"
    }
   ],
   "source": [
    "# For a mean squared error regression problem\n",
    "#model.compile(optimizer='rmsprop',\n",
    "#             loss='mse')\n",
    "X_train.columns"
   ]
  },
  {
   "cell_type": "code",
   "execution_count": 412,
   "metadata": {
    "colab": {
     "base_uri": "https://localhost:8080/",
     "height": 35
    },
    "colab_type": "code",
    "id": "wkaahRJBbiTp",
    "outputId": "a856eed9-d3f2-4f42-cf3a-996378fd3c0c"
   },
   "outputs": [
    {
     "data": {
      "text/plain": [
       "(426, 12)"
      ]
     },
     "execution_count": 412,
     "metadata": {
      "tags": []
     },
     "output_type": "execute_result"
    }
   ],
   "source": [
    "X_train.shape"
   ]
  },
  {
   "cell_type": "code",
   "execution_count": 413,
   "metadata": {
    "colab": {
     "base_uri": "https://localhost:8080/",
     "height": 35
    },
    "colab_type": "code",
    "id": "ZusuvhArtXfp",
    "outputId": "8dacbeda-54f4-4641-d415-76d0d3d5e8af"
   },
   "outputs": [
    {
     "data": {
      "text/plain": [
       "(426, 12)"
      ]
     },
     "execution_count": 413,
     "metadata": {
      "tags": []
     },
     "output_type": "execute_result"
    }
   ],
   "source": [
    "y_train.shape"
   ]
  },
  {
   "cell_type": "code",
   "execution_count": 0,
   "metadata": {
    "colab": {},
    "colab_type": "code",
    "id": "gJM8dXiNNq3m"
   },
   "outputs": [],
   "source": [
    "# Dense(64) is a fully-connected layer with 64 hidden units.\n",
    "# in the first layer, you must specify the expected input data shape:\n",
    "# here, 20-dimensional vectors.\n",
    "\n",
    "from keras.layers import Dense, Dropout, Activation\n",
    "\n",
    "model.add(Dense(64, activation='relu', input_dim=12))\n",
    "model.add(Dropout(0.5))\n",
    "model.add(Dense(64, activation='relu'))\n",
    "model.add(Dropout(0.5))\n",
    "model.add(Dense(12, activation='softmax'))\n"
   ]
  },
  {
   "cell_type": "code",
   "execution_count": 0,
   "metadata": {
    "colab": {},
    "colab_type": "code",
    "id": "BxLaMvxsb94X"
   },
   "outputs": [],
   "source": [
    "# Compile model\n",
    "model.compile(loss='binary_crossentropy', optimizer='adam', metrics=['accuracy'])"
   ]
  },
  {
   "cell_type": "code",
   "execution_count": 476,
   "metadata": {
    "colab": {
     "base_uri": "https://localhost:8080/",
     "height": 1000
    },
    "colab_type": "code",
    "id": "IxoJAxTPcCYw",
    "outputId": "0aa9d645-f78f-4f09-8d4f-9b1ae726e7c4"
   },
   "outputs": [
    {
     "name": "stdout",
     "output_type": "stream",
     "text": [
      "Train on 426 samples, validate on 211 samples\n",
      "Epoch 1/150\n",
      " - 0s - loss: -2.6182e+04 - acc: 0.0072 - val_loss: -2.4487e+04 - val_acc: 0.0051\n",
      "Epoch 2/150\n",
      " - 0s - loss: -2.6182e+04 - acc: 0.0072 - val_loss: -2.4487e+04 - val_acc: 0.0051\n",
      "Epoch 3/150\n",
      " - 0s - loss: -2.6182e+04 - acc: 0.0072 - val_loss: -2.4487e+04 - val_acc: 0.0051\n",
      "Epoch 4/150\n",
      " - 0s - loss: -2.6182e+04 - acc: 0.0072 - val_loss: -2.4487e+04 - val_acc: 0.0051\n",
      "Epoch 5/150\n",
      " - 0s - loss: -2.6003e+04 - acc: 0.0072 - val_loss: -2.4487e+04 - val_acc: 0.0051\n",
      "Epoch 6/150\n",
      " - 0s - loss: -2.6182e+04 - acc: 0.0072 - val_loss: -2.4487e+04 - val_acc: 0.0051\n",
      "Epoch 7/150\n",
      " - 0s - loss: -2.6182e+04 - acc: 0.0072 - val_loss: -2.4487e+04 - val_acc: 0.0051\n",
      "Epoch 8/150\n",
      " - 0s - loss: -2.6182e+04 - acc: 0.0072 - val_loss: -2.4487e+04 - val_acc: 0.0051\n",
      "Epoch 9/150\n",
      " - 0s - loss: -2.6182e+04 - acc: 0.0072 - val_loss: -2.4487e+04 - val_acc: 0.0051\n",
      "Epoch 10/150\n",
      " - 0s - loss: -2.6182e+04 - acc: 0.0072 - val_loss: -2.4487e+04 - val_acc: 0.0051\n",
      "Epoch 11/150\n",
      " - 0s - loss: -2.6182e+04 - acc: 0.0072 - val_loss: -2.4487e+04 - val_acc: 0.0051\n",
      "Epoch 12/150\n",
      " - 0s - loss: -2.6182e+04 - acc: 0.0072 - val_loss: -2.4487e+04 - val_acc: 0.0051\n",
      "Epoch 13/150\n",
      " - 0s - loss: -2.5941e+04 - acc: 0.0070 - val_loss: -2.4487e+04 - val_acc: 0.0051\n",
      "Epoch 14/150\n",
      " - 0s - loss: -2.6182e+04 - acc: 0.0072 - val_loss: -2.4487e+04 - val_acc: 0.0051\n",
      "Epoch 15/150\n",
      " - 0s - loss: -2.6182e+04 - acc: 0.0072 - val_loss: -2.4487e+04 - val_acc: 0.0051\n",
      "Epoch 16/150\n",
      " - 0s - loss: -2.6182e+04 - acc: 0.0072 - val_loss: -2.4487e+04 - val_acc: 0.0051\n",
      "Epoch 17/150\n",
      " - 0s - loss: -2.6182e+04 - acc: 0.0072 - val_loss: -2.4487e+04 - val_acc: 0.0051\n",
      "Epoch 18/150\n",
      " - 0s - loss: -2.6182e+04 - acc: 0.0072 - val_loss: -2.4487e+04 - val_acc: 0.0051\n",
      "Epoch 19/150\n",
      " - 0s - loss: -2.6015e+04 - acc: 0.0072 - val_loss: -2.4487e+04 - val_acc: 0.0051\n",
      "Epoch 20/150\n",
      " - 0s - loss: -2.6182e+04 - acc: 0.0072 - val_loss: -2.4487e+04 - val_acc: 0.0051\n",
      "Epoch 21/150\n",
      " - 0s - loss: -2.6008e+04 - acc: 0.0072 - val_loss: -2.4487e+04 - val_acc: 0.0051\n",
      "Epoch 22/150\n",
      " - 0s - loss: -2.6182e+04 - acc: 0.0072 - val_loss: -2.4487e+04 - val_acc: 0.0051\n",
      "Epoch 23/150\n",
      " - 0s - loss: -2.6182e+04 - acc: 0.0072 - val_loss: -2.4487e+04 - val_acc: 0.0051\n",
      "Epoch 24/150\n",
      " - 0s - loss: -2.6182e+04 - acc: 0.0072 - val_loss: -2.4487e+04 - val_acc: 0.0051\n",
      "Epoch 25/150\n",
      " - 0s - loss: -2.6182e+04 - acc: 0.0072 - val_loss: -2.4487e+04 - val_acc: 0.0051\n",
      "Epoch 26/150\n",
      " - 0s - loss: -2.6182e+04 - acc: 0.0072 - val_loss: -2.4487e+04 - val_acc: 0.0051\n",
      "Epoch 27/150\n",
      " - 0s - loss: -2.6187e+04 - acc: 0.0072 - val_loss: -2.4487e+04 - val_acc: 0.0051\n",
      "Epoch 28/150\n",
      " - 0s - loss: -2.6182e+04 - acc: 0.0072 - val_loss: -2.4487e+04 - val_acc: 0.0051\n",
      "Epoch 29/150\n",
      " - 0s - loss: -2.6182e+04 - acc: 0.0072 - val_loss: -2.4487e+04 - val_acc: 0.0051\n",
      "Epoch 30/150\n",
      " - 0s - loss: -2.5875e+04 - acc: 0.0072 - val_loss: -2.4487e+04 - val_acc: 0.0051\n",
      "Epoch 31/150\n",
      " - 0s - loss: -2.6066e+04 - acc: 0.0074 - val_loss: -2.4487e+04 - val_acc: 0.0051\n",
      "Epoch 32/150\n",
      " - 0s - loss: -2.6182e+04 - acc: 0.0072 - val_loss: -2.4487e+04 - val_acc: 0.0051\n",
      "Epoch 33/150\n",
      " - 0s - loss: -2.5979e+04 - acc: 0.0072 - val_loss: -2.4487e+04 - val_acc: 0.0051\n",
      "Epoch 34/150\n",
      " - 0s - loss: -2.6182e+04 - acc: 0.0072 - val_loss: -2.4487e+04 - val_acc: 0.0051\n",
      "Epoch 35/150\n",
      " - 0s - loss: -2.6025e+04 - acc: 0.0072 - val_loss: -2.4487e+04 - val_acc: 0.0051\n",
      "Epoch 36/150\n",
      " - 0s - loss: -2.6182e+04 - acc: 0.0072 - val_loss: -2.4487e+04 - val_acc: 0.0051\n",
      "Epoch 37/150\n",
      " - 0s - loss: -2.6182e+04 - acc: 0.0072 - val_loss: -2.4487e+04 - val_acc: 0.0051\n",
      "Epoch 38/150\n",
      " - 0s - loss: -2.6182e+04 - acc: 0.0072 - val_loss: -2.4487e+04 - val_acc: 0.0051\n",
      "Epoch 39/150\n",
      " - 0s - loss: -2.6182e+04 - acc: 0.0072 - val_loss: -2.4487e+04 - val_acc: 0.0051\n",
      "Epoch 40/150\n",
      " - 0s - loss: -2.6182e+04 - acc: 0.0072 - val_loss: -2.4487e+04 - val_acc: 0.0051\n",
      "Epoch 41/150\n",
      " - 0s - loss: -2.6002e+04 - acc: 0.0072 - val_loss: -2.4487e+04 - val_acc: 0.0051\n",
      "Epoch 42/150\n",
      " - 0s - loss: -2.6119e+04 - acc: 0.0072 - val_loss: -2.4487e+04 - val_acc: 0.0051\n",
      "Epoch 43/150\n",
      " - 0s - loss: -2.6182e+04 - acc: 0.0072 - val_loss: -2.4487e+04 - val_acc: 0.0051\n",
      "Epoch 44/150\n",
      " - 0s - loss: -2.5986e+04 - acc: 0.0072 - val_loss: -2.4487e+04 - val_acc: 0.0051\n",
      "Epoch 45/150\n",
      " - 0s - loss: -2.6148e+04 - acc: 0.0072 - val_loss: -2.4487e+04 - val_acc: 0.0051\n",
      "Epoch 46/150\n",
      " - 0s - loss: -2.6182e+04 - acc: 0.0072 - val_loss: -2.4487e+04 - val_acc: 0.0051\n",
      "Epoch 47/150\n",
      " - 0s - loss: -2.6130e+04 - acc: 0.0072 - val_loss: -2.4487e+04 - val_acc: 0.0051\n",
      "Epoch 48/150\n",
      " - 0s - loss: -2.6182e+04 - acc: 0.0072 - val_loss: -2.4487e+04 - val_acc: 0.0051\n",
      "Epoch 49/150\n",
      " - 0s - loss: -2.6182e+04 - acc: 0.0072 - val_loss: -2.4487e+04 - val_acc: 0.0051\n",
      "Epoch 50/150\n",
      " - 0s - loss: -2.6182e+04 - acc: 0.0072 - val_loss: -2.4487e+04 - val_acc: 0.0051\n",
      "Epoch 51/150\n",
      " - 0s - loss: -2.6182e+04 - acc: 0.0072 - val_loss: -2.4487e+04 - val_acc: 0.0051\n",
      "Epoch 52/150\n",
      " - 0s - loss: -2.5954e+04 - acc: 0.0072 - val_loss: -2.4487e+04 - val_acc: 0.0051\n",
      "Epoch 53/150\n",
      " - 0s - loss: -2.5840e+04 - acc: 0.0072 - val_loss: -2.4487e+04 - val_acc: 0.0051\n",
      "Epoch 54/150\n",
      " - 0s - loss: -2.6162e+04 - acc: 0.0072 - val_loss: -2.4487e+04 - val_acc: 0.0051\n",
      "Epoch 55/150\n",
      " - 0s - loss: -2.6182e+04 - acc: 0.0072 - val_loss: -2.4487e+04 - val_acc: 0.0051\n",
      "Epoch 56/150\n",
      " - 0s - loss: -2.6182e+04 - acc: 0.0072 - val_loss: -2.4487e+04 - val_acc: 0.0051\n",
      "Epoch 57/150\n",
      " - 0s - loss: -2.5992e+04 - acc: 0.0072 - val_loss: -2.4487e+04 - val_acc: 0.0051\n",
      "Epoch 58/150\n",
      " - 0s - loss: -2.6182e+04 - acc: 0.0072 - val_loss: -2.4487e+04 - val_acc: 0.0051\n",
      "Epoch 59/150\n",
      " - 0s - loss: -2.6182e+04 - acc: 0.0072 - val_loss: -2.4487e+04 - val_acc: 0.0051\n",
      "Epoch 60/150\n",
      " - 0s - loss: -2.6182e+04 - acc: 0.0072 - val_loss: -2.4487e+04 - val_acc: 0.0051\n",
      "Epoch 61/150\n",
      " - 0s - loss: -2.6182e+04 - acc: 0.0072 - val_loss: -2.4487e+04 - val_acc: 0.0051\n",
      "Epoch 62/150\n",
      " - 0s - loss: -2.5769e+04 - acc: 0.0072 - val_loss: -2.4487e+04 - val_acc: 0.0051\n",
      "Epoch 63/150\n",
      " - 0s - loss: -2.6182e+04 - acc: 0.0072 - val_loss: -2.4487e+04 - val_acc: 0.0051\n",
      "Epoch 64/150\n",
      " - 0s - loss: -2.6182e+04 - acc: 0.0072 - val_loss: -2.4487e+04 - val_acc: 0.0051\n",
      "Epoch 65/150\n",
      " - 0s - loss: -2.6182e+04 - acc: 0.0072 - val_loss: -2.4487e+04 - val_acc: 0.0051\n",
      "Epoch 66/150\n",
      " - 0s - loss: -2.6182e+04 - acc: 0.0072 - val_loss: -2.4487e+04 - val_acc: 0.0051\n",
      "Epoch 67/150\n",
      " - 0s - loss: -2.5958e+04 - acc: 0.0072 - val_loss: -2.4487e+04 - val_acc: 0.0051\n",
      "Epoch 68/150\n",
      " - 0s - loss: -2.6182e+04 - acc: 0.0072 - val_loss: -2.4487e+04 - val_acc: 0.0051\n",
      "Epoch 69/150\n",
      " - 0s - loss: -2.5921e+04 - acc: 0.0072 - val_loss: -2.4487e+04 - val_acc: 0.0051\n",
      "Epoch 70/150\n",
      " - 0s - loss: -2.6182e+04 - acc: 0.0072 - val_loss: -2.4487e+04 - val_acc: 0.0051\n",
      "Epoch 71/150\n",
      " - 0s - loss: -2.6182e+04 - acc: 0.0072 - val_loss: -2.4487e+04 - val_acc: 0.0051\n",
      "Epoch 72/150\n",
      " - 0s - loss: -2.6182e+04 - acc: 0.0072 - val_loss: -2.4487e+04 - val_acc: 0.0051\n",
      "Epoch 73/150\n",
      " - 0s - loss: -2.5945e+04 - acc: 0.0072 - val_loss: -2.4487e+04 - val_acc: 0.0051\n",
      "Epoch 74/150\n",
      " - 0s - loss: -2.6182e+04 - acc: 0.0072 - val_loss: -2.4487e+04 - val_acc: 0.0051\n",
      "Epoch 75/150\n",
      " - 0s - loss: -2.6182e+04 - acc: 0.0072 - val_loss: -2.4487e+04 - val_acc: 0.0051\n",
      "Epoch 76/150\n",
      " - 0s - loss: -2.6182e+04 - acc: 0.0072 - val_loss: -2.4487e+04 - val_acc: 0.0051\n",
      "Epoch 77/150\n",
      " - 0s - loss: -2.5967e+04 - acc: 0.0072 - val_loss: -2.4487e+04 - val_acc: 0.0051\n",
      "Epoch 78/150\n",
      " - 0s - loss: -2.6050e+04 - acc: 0.0072 - val_loss: -2.4487e+04 - val_acc: 0.0051\n",
      "Epoch 79/150\n",
      " - 0s - loss: -2.6182e+04 - acc: 0.0072 - val_loss: -2.4487e+04 - val_acc: 0.0051\n",
      "Epoch 80/150\n",
      " - 0s - loss: -2.6182e+04 - acc: 0.0072 - val_loss: -2.4487e+04 - val_acc: 0.0051\n",
      "Epoch 81/150\n",
      " - 0s - loss: -2.6052e+04 - acc: 0.0072 - val_loss: -2.4487e+04 - val_acc: 0.0051\n",
      "Epoch 82/150\n",
      " - 0s - loss: -2.6182e+04 - acc: 0.0072 - val_loss: -2.4487e+04 - val_acc: 0.0051\n",
      "Epoch 83/150\n",
      " - 0s - loss: -2.6182e+04 - acc: 0.0072 - val_loss: -2.4487e+04 - val_acc: 0.0051\n",
      "Epoch 84/150\n",
      " - 0s - loss: -2.6182e+04 - acc: 0.0072 - val_loss: -2.4487e+04 - val_acc: 0.0051\n",
      "Epoch 85/150\n",
      " - 0s - loss: -2.6182e+04 - acc: 0.0072 - val_loss: -2.4487e+04 - val_acc: 0.0051\n",
      "Epoch 86/150\n",
      " - 0s - loss: -2.6182e+04 - acc: 0.0072 - val_loss: -2.4487e+04 - val_acc: 0.0051\n",
      "Epoch 87/150\n",
      " - 0s - loss: -2.6182e+04 - acc: 0.0072 - val_loss: -2.4487e+04 - val_acc: 0.0051\n",
      "Epoch 88/150\n",
      " - 0s - loss: -2.6182e+04 - acc: 0.0072 - val_loss: -2.4487e+04 - val_acc: 0.0051\n",
      "Epoch 89/150\n",
      " - 0s - loss: -2.5852e+04 - acc: 0.0072 - val_loss: -2.4487e+04 - val_acc: 0.0051\n",
      "Epoch 90/150\n",
      " - 0s - loss: -2.5784e+04 - acc: 0.0072 - val_loss: -2.4487e+04 - val_acc: 0.0051\n",
      "Epoch 91/150\n",
      " - 0s - loss: -2.6182e+04 - acc: 0.0072 - val_loss: -2.4487e+04 - val_acc: 0.0051\n",
      "Epoch 92/150\n",
      " - 0s - loss: -2.6182e+04 - acc: 0.0072 - val_loss: -2.4487e+04 - val_acc: 0.0051\n",
      "Epoch 93/150\n",
      " - 0s - loss: -2.6150e+04 - acc: 0.0072 - val_loss: -2.4487e+04 - val_acc: 0.0051\n",
      "Epoch 94/150\n",
      " - 0s - loss: -2.6182e+04 - acc: 0.0072 - val_loss: -2.4487e+04 - val_acc: 0.0051\n",
      "Epoch 95/150\n",
      " - 0s - loss: -2.5982e+04 - acc: 0.0072 - val_loss: -2.4487e+04 - val_acc: 0.0051\n",
      "Epoch 96/150\n",
      " - 0s - loss: -2.6182e+04 - acc: 0.0072 - val_loss: -2.4487e+04 - val_acc: 0.0051\n",
      "Epoch 97/150\n",
      " - 0s - loss: -2.6182e+04 - acc: 0.0072 - val_loss: -2.4487e+04 - val_acc: 0.0051\n",
      "Epoch 98/150\n",
      " - 0s - loss: -2.6182e+04 - acc: 0.0072 - val_loss: -2.4487e+04 - val_acc: 0.0051\n",
      "Epoch 99/150\n",
      " - 0s - loss: -2.6182e+04 - acc: 0.0072 - val_loss: -2.4487e+04 - val_acc: 0.0051\n",
      "Epoch 100/150\n",
      " - 0s - loss: -2.6182e+04 - acc: 0.0072 - val_loss: -2.4487e+04 - val_acc: 0.0051\n",
      "Epoch 101/150\n",
      " - 0s - loss: -2.6182e+04 - acc: 0.0072 - val_loss: -2.4487e+04 - val_acc: 0.0051\n",
      "Epoch 102/150\n",
      " - 0s - loss: -2.5822e+04 - acc: 0.0074 - val_loss: -2.4487e+04 - val_acc: 0.0051\n",
      "Epoch 103/150\n",
      " - 0s - loss: -2.6156e+04 - acc: 0.0072 - val_loss: -2.4487e+04 - val_acc: 0.0051\n",
      "Epoch 104/150\n",
      " - 0s - loss: -2.6182e+04 - acc: 0.0072 - val_loss: -2.4487e+04 - val_acc: 0.0051\n",
      "Epoch 105/150\n",
      " - 0s - loss: -2.6182e+04 - acc: 0.0072 - val_loss: -2.4487e+04 - val_acc: 0.0051\n",
      "Epoch 106/150\n",
      " - 0s - loss: -2.6182e+04 - acc: 0.0072 - val_loss: -2.4487e+04 - val_acc: 0.0051\n",
      "Epoch 107/150\n",
      " - 0s - loss: -2.6182e+04 - acc: 0.0072 - val_loss: -2.4487e+04 - val_acc: 0.0051\n",
      "Epoch 108/150\n",
      " - 0s - loss: -2.6164e+04 - acc: 0.0072 - val_loss: -2.4487e+04 - val_acc: 0.0051\n",
      "Epoch 109/150\n",
      " - 0s - loss: -2.6182e+04 - acc: 0.0072 - val_loss: -2.4487e+04 - val_acc: 0.0051\n",
      "Epoch 110/150\n",
      " - 0s - loss: -2.6182e+04 - acc: 0.0072 - val_loss: -2.4487e+04 - val_acc: 0.0051\n",
      "Epoch 111/150\n",
      " - 0s - loss: -2.6182e+04 - acc: 0.0072 - val_loss: -2.4487e+04 - val_acc: 0.0051\n",
      "Epoch 112/150\n",
      " - 0s - loss: -2.6182e+04 - acc: 0.0072 - val_loss: -2.4487e+04 - val_acc: 0.0051\n",
      "Epoch 113/150\n",
      " - 0s - loss: -2.6188e+04 - acc: 0.0072 - val_loss: -2.4487e+04 - val_acc: 0.0051\n",
      "Epoch 114/150\n",
      " - 0s - loss: -2.6182e+04 - acc: 0.0072 - val_loss: -2.4487e+04 - val_acc: 0.0051\n",
      "Epoch 115/150\n",
      " - 0s - loss: -2.5931e+04 - acc: 0.0072 - val_loss: -2.4487e+04 - val_acc: 0.0051\n",
      "Epoch 116/150\n",
      " - 0s - loss: -2.6182e+04 - acc: 0.0072 - val_loss: -2.4487e+04 - val_acc: 0.0051\n",
      "Epoch 117/150\n",
      " - 0s - loss: -2.6182e+04 - acc: 0.0072 - val_loss: -2.4487e+04 - val_acc: 0.0051\n",
      "Epoch 118/150\n",
      " - 0s - loss: -2.6182e+04 - acc: 0.0072 - val_loss: -2.4487e+04 - val_acc: 0.0051\n",
      "Epoch 119/150\n",
      " - 0s - loss: -2.6182e+04 - acc: 0.0072 - val_loss: -2.4487e+04 - val_acc: 0.0051\n",
      "Epoch 120/150\n",
      " - 0s - loss: -2.6159e+04 - acc: 0.0072 - val_loss: -2.4487e+04 - val_acc: 0.0051\n",
      "Epoch 121/150\n",
      " - 0s - loss: -2.6182e+04 - acc: 0.0072 - val_loss: -2.4487e+04 - val_acc: 0.0051\n",
      "Epoch 122/150\n",
      " - 0s - loss: -2.6182e+04 - acc: 0.0072 - val_loss: -2.4487e+04 - val_acc: 0.0051\n",
      "Epoch 123/150\n",
      " - 0s - loss: -2.6182e+04 - acc: 0.0072 - val_loss: -2.4487e+04 - val_acc: 0.0051\n",
      "Epoch 124/150\n",
      " - 0s - loss: -2.6182e+04 - acc: 0.0072 - val_loss: -2.4487e+04 - val_acc: 0.0051\n",
      "Epoch 125/150\n",
      " - 0s - loss: -2.6182e+04 - acc: 0.0072 - val_loss: -2.4487e+04 - val_acc: 0.0051\n",
      "Epoch 126/150\n",
      " - 0s - loss: -2.6182e+04 - acc: 0.0072 - val_loss: -2.4487e+04 - val_acc: 0.0051\n",
      "Epoch 127/150\n",
      " - 0s - loss: -2.6056e+04 - acc: 0.0072 - val_loss: -2.4487e+04 - val_acc: 0.0051\n",
      "Epoch 128/150\n",
      " - 0s - loss: -2.6182e+04 - acc: 0.0072 - val_loss: -2.4487e+04 - val_acc: 0.0051\n",
      "Epoch 129/150\n",
      " - 0s - loss: -2.6182e+04 - acc: 0.0072 - val_loss: -2.4487e+04 - val_acc: 0.0051\n",
      "Epoch 130/150\n",
      " - 0s - loss: -2.6182e+04 - acc: 0.0072 - val_loss: -2.4487e+04 - val_acc: 0.0051\n",
      "Epoch 131/150\n",
      " - 0s - loss: -2.6182e+04 - acc: 0.0072 - val_loss: -2.4487e+04 - val_acc: 0.0051\n",
      "Epoch 132/150\n",
      " - 0s - loss: -2.6046e+04 - acc: 0.0072 - val_loss: -2.4487e+04 - val_acc: 0.0051\n",
      "Epoch 133/150\n",
      " - 0s - loss: -2.6182e+04 - acc: 0.0072 - val_loss: -2.4487e+04 - val_acc: 0.0051\n",
      "Epoch 134/150\n",
      " - 0s - loss: -2.6182e+04 - acc: 0.0072 - val_loss: -2.4487e+04 - val_acc: 0.0051\n",
      "Epoch 135/150\n",
      " - 0s - loss: -2.6182e+04 - acc: 0.0072 - val_loss: -2.4487e+04 - val_acc: 0.0051\n",
      "Epoch 136/150\n",
      " - 0s - loss: -2.6182e+04 - acc: 0.0072 - val_loss: -2.4487e+04 - val_acc: 0.0051\n",
      "Epoch 137/150\n",
      " - 0s - loss: -2.6182e+04 - acc: 0.0072 - val_loss: -2.4487e+04 - val_acc: 0.0051\n",
      "Epoch 138/150\n",
      " - 0s - loss: -2.6182e+04 - acc: 0.0072 - val_loss: -2.4487e+04 - val_acc: 0.0051\n",
      "Epoch 139/150\n",
      " - 0s - loss: -2.6182e+04 - acc: 0.0072 - val_loss: -2.4487e+04 - val_acc: 0.0051\n",
      "Epoch 140/150\n",
      " - 0s - loss: -2.6182e+04 - acc: 0.0072 - val_loss: -2.4487e+04 - val_acc: 0.0051\n",
      "Epoch 141/150\n",
      " - 0s - loss: -2.6034e+04 - acc: 0.0072 - val_loss: -2.4487e+04 - val_acc: 0.0051\n",
      "Epoch 142/150\n",
      " - 0s - loss: -2.6182e+04 - acc: 0.0072 - val_loss: -2.4487e+04 - val_acc: 0.0051\n",
      "Epoch 143/150\n",
      " - 0s - loss: -2.6182e+04 - acc: 0.0072 - val_loss: -2.4487e+04 - val_acc: 0.0051\n",
      "Epoch 144/150\n",
      " - 0s - loss: -2.6182e+04 - acc: 0.0072 - val_loss: -2.4487e+04 - val_acc: 0.0051\n",
      "Epoch 145/150\n",
      " - 0s - loss: -2.6182e+04 - acc: 0.0072 - val_loss: -2.4487e+04 - val_acc: 0.0051\n",
      "Epoch 146/150\n",
      " - 0s - loss: -2.6182e+04 - acc: 0.0072 - val_loss: -2.4487e+04 - val_acc: 0.0051\n",
      "Epoch 147/150\n",
      " - 0s - loss: -2.6182e+04 - acc: 0.0072 - val_loss: -2.4487e+04 - val_acc: 0.0051\n",
      "Epoch 148/150\n",
      " - 0s - loss: -2.6182e+04 - acc: 0.0072 - val_loss: -2.4487e+04 - val_acc: 0.0051\n",
      "Epoch 149/150\n",
      " - 0s - loss: -2.6182e+04 - acc: 0.0072 - val_loss: -2.4487e+04 - val_acc: 0.0051\n",
      "Epoch 150/150\n",
      " - 0s - loss: -2.6182e+04 - acc: 0.0072 - val_loss: -2.4487e+04 - val_acc: 0.0051\n"
     ]
    }
   ],
   "source": [
    "y_pred = model.fit(X_train, y_train, batch_size=32, epochs=150, verbose=2, callbacks=None, validation_split=0.5, validation_data=(X_test,y_test), shuffle=True, class_weight=None, sample_weight=None, initial_epoch=0, steps_per_epoch=None, validation_steps=None, validation_freq=1, max_queue_size=10, workers=1, use_multiprocessing=False)"
   ]
  },
  {
   "cell_type": "code",
   "execution_count": 460,
   "metadata": {
    "colab": {
     "base_uri": "https://localhost:8080/",
     "height": 35
    },
    "colab_type": "code",
    "id": "nVU654429JuQ",
    "outputId": "368a4935-5af9-4091-d2ff-cba23cf5b713"
   },
   "outputs": [
    {
     "name": "stdout",
     "output_type": "stream",
     "text": [
      "acc: 0.65%\n"
     ]
    }
   ],
   "source": [
    "# evaluate the model\n",
    "scores = model.evaluate(X,Y, verbose=0)\n",
    "print(\"%s: %.2f%%\" % (model.metrics_names[1], scores[1]*100))"
   ]
  },
  {
   "cell_type": "code",
   "execution_count": 461,
   "metadata": {
    "colab": {
     "base_uri": "https://localhost:8080/",
     "height": 54
    },
    "colab_type": "code",
    "id": "_iuChIhlDIen",
    "outputId": "52c4ac2e-d38b-44d7-af41-7b999ae4d6f7"
   },
   "outputs": [
    {
     "name": "stdout",
     "output_type": "stream",
     "text": [
      "acc: 0.65%\n",
      "0.65% (+/- 0.00%)\n"
     ]
    }
   ],
   "source": [
    "print(\"%s: %.2f%%\" % (model.metrics_names[1], scores[1]*100))\n",
    "cvscores.append(scores[1] * 100)\n",
    "print(\"%.2f%% (+/- %.2f%%)\" % (np.mean(cvscores), np.std(cvscores)))"
   ]
  },
  {
   "cell_type": "code",
   "execution_count": 0,
   "metadata": {
    "colab": {},
    "colab_type": "code",
    "id": "nJ4pnPDESkkG"
   },
   "outputs": [],
   "source": [
    "model.save('keras.h5')"
   ]
  },
  {
   "cell_type": "code",
   "execution_count": 0,
   "metadata": {
    "colab": {},
    "colab_type": "code",
    "id": "_gWjZDcT_Plp"
   },
   "outputs": [],
   "source": [
    "# serialize model to JSON\n",
    "from keras.models import model_from_json\n",
    "\n",
    "model_json = model.to_json()\n",
    "with open(\"model.json\", \"w\") as json_file:\n",
    "    json_file.write(model_json)"
   ]
  },
  {
   "cell_type": "code",
   "execution_count": 438,
   "metadata": {
    "colab": {
     "base_uri": "https://localhost:8080/",
     "height": 35
    },
    "colab_type": "code",
    "id": "eJtMFWoN_pSz",
    "outputId": "5a34f119-392a-4091-dcbe-5d9b369887b5"
   },
   "outputs": [
    {
     "name": "stdout",
     "output_type": "stream",
     "text": [
      "Saved model to disk\n"
     ]
    }
   ],
   "source": [
    "# serialize weights to HDF5\n",
    "model.save_weights(\"model.h5\")\n",
    "print(\"Saved model to disk\")"
   ]
  },
  {
   "cell_type": "code",
   "execution_count": 446,
   "metadata": {
    "colab": {
     "base_uri": "https://localhost:8080/",
     "height": 35
    },
    "colab_type": "code",
    "id": "tt_3ATVyENYL",
    "outputId": "a166f0a2-8122-4ec3-cf9f-0f4002037544"
   },
   "outputs": [
    {
     "name": "stdout",
     "output_type": "stream",
     "text": [
      "Loaded model from disk\n"
     ]
    }
   ],
   "source": [
    "# load json and create model\n",
    "json_file = open('model.json', 'r')\n",
    "loaded_model_json = json_file.read()\n",
    "json_file.close()\n",
    "loaded_model = model_from_json(loaded_model_json)\n",
    "# load weights into new model\n",
    "loaded_model.load_weights(\"model.h5\")\n",
    "print(\"Loaded model from disk\")"
   ]
  },
  {
   "cell_type": "code",
   "execution_count": 0,
   "metadata": {
    "colab": {},
    "colab_type": "code",
    "id": "SLBsKTb_RbNs"
   },
   "outputs": [],
   "source": [
    "from google.colab import drive"
   ]
  },
  {
   "cell_type": "markdown",
   "metadata": {
    "colab_type": "text",
    "id": "JNqQElkdaTN_"
   },
   "source": [
    "# Generate dummy data\n",
    "\n",
    " https://machinelearningmastery.com/evaluate-performance-deep-learning-models-keras/\n",
    "\n",
    "https://machinelearningmastery.com/save-load-keras-deep-learning-models/\n",
    "\n",
    "# New Section\n",
    "import numpy as np\n",
    "data = np.random.random((1000, 100))\n",
    "labels = np.random.randint(10, size=(1000, 1))\n",
    "\n",
    "\n",
    "\n",
    "!pip install -U -q PyDrive\n",
    "\n",
    "import tensorflow as tf\n",
    "import timeit\n",
    "\n",
    "config = tf.ConfigProto()\n",
    "config.gpu_options.allow_growth = True\n",
    "\n",
    "from pydrive.auth import GoogleAuth\n",
    "from pydrive.drive import GoogleDrive\n",
    "from google.colab import auth\n",
    "from oauth2client.client import GoogleCredentials\n",
    "\n",
    "\n",
    "# Authenticate and create the PyDrive client.\n",
    "auth.authenticate_user()\n",
    "gauth = GoogleAuth()\n",
    "gauth.credentials = GoogleCredentials.get_application_default()\n",
    "drive = GoogleDrive(gauth)"
   ]
  }
 ],
 "metadata": {
  "colab": {
   "collapsed_sections": [],
   "name": "Untitled0.ipynb",
   "provenance": []
  },
  "kernelspec": {
   "display_name": "Python 3",
   "language": "python",
   "name": "python3"
  }
 },
 "nbformat": 4,
 "nbformat_minor": 1
}

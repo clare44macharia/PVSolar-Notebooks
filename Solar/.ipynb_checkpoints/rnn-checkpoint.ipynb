{
 "cells": [
  {
   "cell_type": "code",
   "execution_count": 2,
   "metadata": {},
   "outputs": [],
   "source": [
    "import keras"
   ]
  },
  {
   "cell_type": "code",
   "execution_count": 3,
   "metadata": {},
   "outputs": [],
   "source": [
    "from keras.optimizers import SGD"
   ]
  },
  {
   "cell_type": "code",
   "execution_count": 4,
   "metadata": {},
   "outputs": [],
   "source": [
    "from keras.models import Sequential\n",
    "from keras.layers import Dense, Activation\n",
    "from keras.wrappers.scikit_learn import KerasClassifier\n",
    "import keras.utils\n",
    "import keras.layers\n",
    "from sklearn.model_selection import KFold\n",
    "from sklearn.model_selection import cross_val_score\n",
    "from sklearn.model_selection import GridSearchCV\n",
    "from sklearn.ensemble import AdaBoostClassifier"
   ]
  },
  {
   "cell_type": "code",
   "execution_count": 6,
   "metadata": {},
   "outputs": [],
   "source": [
    "import pandas as pd"
   ]
  },
  {
   "cell_type": "code",
   "execution_count": 7,
   "metadata": {},
   "outputs": [],
   "source": [
    "weather = pd.read_csv(\"weather-daily.csv\")"
   ]
  },
  {
   "cell_type": "code",
   "execution_count": 8,
   "metadata": {},
   "outputs": [
    {
     "data": {
      "text/html": [
       "<div>\n",
       "<style scoped>\n",
       "    .dataframe tbody tr th:only-of-type {\n",
       "        vertical-align: middle;\n",
       "    }\n",
       "\n",
       "    .dataframe tbody tr th {\n",
       "        vertical-align: top;\n",
       "    }\n",
       "\n",
       "    .dataframe thead th {\n",
       "        text-align: right;\n",
       "    }\n",
       "</style>\n",
       "<table border=\"1\" class=\"dataframe\">\n",
       "  <thead>\n",
       "    <tr style=\"text-align: right;\">\n",
       "      <th></th>\n",
       "      <th>Date</th>\n",
       "      <th>Cloud coverage</th>\n",
       "      <th>Visibility</th>\n",
       "      <th>Temperature</th>\n",
       "      <th>Dew point</th>\n",
       "      <th>Relative humidity</th>\n",
       "      <th>Wind speed</th>\n",
       "      <th>Station pressure</th>\n",
       "      <th>Altimeter</th>\n",
       "      <th>Solar energy</th>\n",
       "      <th>(Inverters)</th>\n",
       "    </tr>\n",
       "  </thead>\n",
       "  <tbody>\n",
       "    <tr>\n",
       "      <th>0</th>\n",
       "      <td>01-02-16</td>\n",
       "      <td>0.103750</td>\n",
       "      <td>9.447917</td>\n",
       "      <td>3.113750</td>\n",
       "      <td>0.321667</td>\n",
       "      <td>79.454583</td>\n",
       "      <td>4.694583</td>\n",
       "      <td>29.228750</td>\n",
       "      <td>30.019583</td>\n",
       "      <td>20256</td>\n",
       "      <td>NaN</td>\n",
       "    </tr>\n",
       "    <tr>\n",
       "      <th>1</th>\n",
       "      <td>02-02-16</td>\n",
       "      <td>0.798333</td>\n",
       "      <td>3.941250</td>\n",
       "      <td>6.992500</td>\n",
       "      <td>6.215417</td>\n",
       "      <td>93.597500</td>\n",
       "      <td>13.290833</td>\n",
       "      <td>28.911667</td>\n",
       "      <td>29.697917</td>\n",
       "      <td>1761</td>\n",
       "      <td>NaN</td>\n",
       "    </tr>\n",
       "    <tr>\n",
       "      <th>2</th>\n",
       "      <td>03-02-16</td>\n",
       "      <td>0.864583</td>\n",
       "      <td>8.699583</td>\n",
       "      <td>1.615000</td>\n",
       "      <td>0.022917</td>\n",
       "      <td>85.001667</td>\n",
       "      <td>16.726250</td>\n",
       "      <td>29.026667</td>\n",
       "      <td>29.814583</td>\n",
       "      <td>2775</td>\n",
       "      <td>NaN</td>\n",
       "    </tr>\n",
       "    <tr>\n",
       "      <th>3</th>\n",
       "      <td>04-02-16</td>\n",
       "      <td>0.372917</td>\n",
       "      <td>10.000000</td>\n",
       "      <td>-2.472500</td>\n",
       "      <td>-5.886250</td>\n",
       "      <td>74.522500</td>\n",
       "      <td>9.455417</td>\n",
       "      <td>29.455000</td>\n",
       "      <td>30.254583</td>\n",
       "      <td>28695</td>\n",
       "      <td>NaN</td>\n",
       "    </tr>\n",
       "    <tr>\n",
       "      <th>4</th>\n",
       "      <td>05-02-16</td>\n",
       "      <td>0.515417</td>\n",
       "      <td>9.206667</td>\n",
       "      <td>-2.002917</td>\n",
       "      <td>-4.152083</td>\n",
       "      <td>82.027500</td>\n",
       "      <td>5.920000</td>\n",
       "      <td>29.550833</td>\n",
       "      <td>30.351250</td>\n",
       "      <td>9517</td>\n",
       "      <td>NaN</td>\n",
       "    </tr>\n",
       "  </tbody>\n",
       "</table>\n",
       "</div>"
      ],
      "text/plain": [
       "       Date  Cloud coverage  Visibility  Temperature  Dew point  \\\n",
       "0  01-02-16        0.103750    9.447917     3.113750   0.321667   \n",
       "1  02-02-16        0.798333    3.941250     6.992500   6.215417   \n",
       "2  03-02-16        0.864583    8.699583     1.615000   0.022917   \n",
       "3  04-02-16        0.372917   10.000000    -2.472500  -5.886250   \n",
       "4  05-02-16        0.515417    9.206667    -2.002917  -4.152083   \n",
       "\n",
       "   Relative humidity  Wind speed  Station pressure  Altimeter  Solar energy  \\\n",
       "0          79.454583    4.694583         29.228750  30.019583         20256   \n",
       "1          93.597500   13.290833         28.911667  29.697917          1761   \n",
       "2          85.001667   16.726250         29.026667  29.814583          2775   \n",
       "3          74.522500    9.455417         29.455000  30.254583         28695   \n",
       "4          82.027500    5.920000         29.550833  30.351250          9517   \n",
       "\n",
       "   (Inverters)  \n",
       "0          NaN  \n",
       "1          NaN  \n",
       "2          NaN  \n",
       "3          NaN  \n",
       "4          NaN  "
      ]
     },
     "execution_count": 8,
     "metadata": {},
     "output_type": "execute_result"
    }
   ],
   "source": [
    "weather.head(5)"
   ]
  },
  {
   "cell_type": "code",
   "execution_count": 9,
   "metadata": {},
   "outputs": [
    {
     "data": {
      "text/plain": [
       "(637, 11)"
      ]
     },
     "execution_count": 9,
     "metadata": {},
     "output_type": "execute_result"
    }
   ],
   "source": [
    "weather.shape"
   ]
  },
  {
   "cell_type": "code",
   "execution_count": 10,
   "metadata": {},
   "outputs": [],
   "source": [
    "df = pd.DataFrame(weather, columns = ['Date', 'Cloud coverage', 'Visibility', 'Temperature', 'Dew point',\n",
    "       'Relative humidity', 'Wind speed', 'Station pressure', 'Altimeter',\n",
    "       'Solar energy', '(Inverters)']) "
   ]
  },
  {
   "cell_type": "code",
   "execution_count": 11,
   "metadata": {},
   "outputs": [],
   "source": [
    "#seperating day, month and year\n",
    "df['Day'] = pd.DatetimeIndex(df['Date']).day\n",
    "df['Month'] = pd.DatetimeIndex(df['Date']).month\n",
    "df['Year'] = pd.DatetimeIndex(df['Date']).year"
   ]
  },
  {
   "cell_type": "code",
   "execution_count": 12,
   "metadata": {},
   "outputs": [
    {
     "data": {
      "text/plain": [
       "(637, 14)"
      ]
     },
     "execution_count": 12,
     "metadata": {},
     "output_type": "execute_result"
    }
   ],
   "source": [
    "df.shape"
   ]
  },
  {
   "cell_type": "code",
   "execution_count": 13,
   "metadata": {},
   "outputs": [
    {
     "data": {
      "text/plain": [
       "Index(['Date', 'Cloud coverage', 'Visibility', 'Temperature', 'Dew point',\n",
       "       'Relative humidity', 'Wind speed', 'Station pressure', 'Altimeter',\n",
       "       'Solar energy', '(Inverters)', 'Day', 'Month', 'Year'],\n",
       "      dtype='object')"
      ]
     },
     "execution_count": 13,
     "metadata": {},
     "output_type": "execute_result"
    }
   ],
   "source": [
    "df.columns"
   ]
  },
  {
   "cell_type": "code",
   "execution_count": 14,
   "metadata": {},
   "outputs": [],
   "source": [
    "X=df.iloc[:, 0:15]"
   ]
  },
  {
   "cell_type": "code",
   "execution_count": 15,
   "metadata": {},
   "outputs": [],
   "source": [
    "X.drop([\"(Inverters)\",\"Date\"], axis = 1, inplace = True) "
   ]
  },
  {
   "cell_type": "code",
   "execution_count": 16,
   "metadata": {},
   "outputs": [
    {
     "data": {
      "text/plain": [
       "(637, 12)"
      ]
     },
     "execution_count": 16,
     "metadata": {},
     "output_type": "execute_result"
    }
   ],
   "source": [
    "X.shape"
   ]
  },
  {
   "cell_type": "code",
   "execution_count": 17,
   "metadata": {},
   "outputs": [],
   "source": [
    "columns = (['Cloud coverage', 'Visibility', 'Temperature', 'Dew point',\n",
    "       'Relative humidity', 'Wind speed', 'Station pressure', 'Altimeter',\n",
    "       'Day', 'Month', 'Year','Solar energy'])"
   ]
  },
  {
   "cell_type": "code",
   "execution_count": 18,
   "metadata": {},
   "outputs": [],
   "source": [
    "Y = pd.DataFrame(X, columns=columns)"
   ]
  },
  {
   "cell_type": "code",
   "execution_count": 19,
   "metadata": {},
   "outputs": [
    {
     "data": {
      "text/plain": [
       "(637, 12)"
      ]
     },
     "execution_count": 19,
     "metadata": {},
     "output_type": "execute_result"
    }
   ],
   "source": [
    "Y.shape"
   ]
  },
  {
   "cell_type": "code",
   "execution_count": 20,
   "metadata": {},
   "outputs": [],
   "source": [
    "# train and test data\n",
    "from sklearn.model_selection import train_test_split\n",
    "X_train, X_test, y_train, y_test = train_test_split(X, Y, test_size=0.33, random_state=42)\n",
    "#train_test_split(X, y, test_size=0.33, random_state=42)\n"
   ]
  },
  {
   "cell_type": "code",
   "execution_count": 21,
   "metadata": {},
   "outputs": [],
   "source": [
    "model = keras.Sequential()"
   ]
  },
  {
   "cell_type": "code",
   "execution_count": 22,
   "metadata": {},
   "outputs": [
    {
     "data": {
      "text/plain": [
       "Index(['Cloud coverage', 'Visibility', 'Temperature', 'Dew point',\n",
       "       'Relative humidity', 'Wind speed', 'Station pressure', 'Altimeter',\n",
       "       'Solar energy', 'Day', 'Month', 'Year'],\n",
       "      dtype='object')"
      ]
     },
     "execution_count": 22,
     "metadata": {},
     "output_type": "execute_result"
    }
   ],
   "source": [
    "# For a mean squared error regression problem\n",
    "#model.compile(optimizer='rmsprop',\n",
    "#             loss='mse')\n",
    "X_train.columns"
   ]
  },
  {
   "cell_type": "code",
   "execution_count": 23,
   "metadata": {},
   "outputs": [
    {
     "data": {
      "text/plain": [
       "(426, 12)"
      ]
     },
     "execution_count": 23,
     "metadata": {},
     "output_type": "execute_result"
    }
   ],
   "source": [
    "X_train.shape"
   ]
  },
  {
   "cell_type": "code",
   "execution_count": 24,
   "metadata": {},
   "outputs": [
    {
     "data": {
      "text/plain": [
       "(426, 12)"
      ]
     },
     "execution_count": 24,
     "metadata": {},
     "output_type": "execute_result"
    }
   ],
   "source": [
    "y_train.shape"
   ]
  },
  {
   "cell_type": "code",
   "execution_count": 25,
   "metadata": {},
   "outputs": [],
   "source": [
    "# Dense(64) is a fully-connected layer with 64 hidden units.\n",
    "# in the first layer, you must specify the expected input data shape:\n",
    "# here, 20-dimensional vectors.\n",
    "\n",
    "from keras.layers import Dense, Dropout, Activation\n",
    "\n",
    "model.add(Dense(64, activation='relu', input_dim=12))\n",
    "model.add(Dropout(0.5))\n",
    "model.add(Dense(64, activation='relu'))\n",
    "model.add(Dropout(0.5))\n",
    "model.add(Dense(12, activation='softmax'))\n"
   ]
  },
  {
   "cell_type": "code",
   "execution_count": 26,
   "metadata": {},
   "outputs": [],
   "source": [
    "# Compile model\n",
    "model.compile(loss='binary_crossentropy', optimizer='adam', metrics=['accuracy'])"
   ]
  },
  {
   "cell_type": "code",
   "execution_count": 28,
   "metadata": {},
   "outputs": [
    {
     "name": "stdout",
     "output_type": "stream",
     "text": [
      "Train on 426 samples, validate on 211 samples\n",
      "Epoch 1/150\n",
      " - 2s - loss: 27717.5106 - acc: 0.0076 - val_loss: 30217.3853 - val_acc: 0.0051\n",
      "Epoch 2/150\n",
      " - 0s - loss: 27469.2490 - acc: 0.0076 - val_loss: 30194.5224 - val_acc: 0.0051\n",
      "Epoch 3/150\n",
      " - 0s - loss: 28262.5868 - acc: 0.0076 - val_loss: 29651.5459 - val_acc: 0.0051\n",
      "Epoch 4/150\n",
      " - 0s - loss: 27972.1582 - acc: 0.0074 - val_loss: 29861.5906 - val_acc: 0.0051\n",
      "Epoch 5/150\n",
      " - 0s - loss: 26465.7969 - acc: 0.0076 - val_loss: 30045.5139 - val_acc: 0.0051\n",
      "Epoch 6/150\n",
      " - 0s - loss: 26141.2071 - acc: 0.0072 - val_loss: 27532.9614 - val_acc: 0.0051\n",
      "Epoch 7/150\n",
      " - 0s - loss: 26203.7004 - acc: 0.0072 - val_loss: 25348.3157 - val_acc: 0.0051\n",
      "Epoch 8/150\n",
      " - 0s - loss: 25804.6285 - acc: 0.0072 - val_loss: 25348.3157 - val_acc: 0.0051\n",
      "Epoch 9/150\n",
      " - 0s - loss: 25410.3417 - acc: 0.0072 - val_loss: 25348.3157 - val_acc: 0.0051\n",
      "Epoch 10/150\n",
      " - 0s - loss: 22496.1356 - acc: 0.0078 - val_loss: 25348.3157 - val_acc: 0.0051\n",
      "Epoch 11/150\n",
      " - 0s - loss: 17363.1751 - acc: 0.0076 - val_loss: -2.4514e+04 - val_acc: 0.0051\n",
      "Epoch 12/150\n",
      " - 0s - loss: 14561.6515 - acc: 0.0074 - val_loss: -2.4487e+04 - val_acc: 0.0051\n",
      "Epoch 13/150\n",
      " - 0s - loss: 6293.8934 - acc: 0.0074 - val_loss: -2.4487e+04 - val_acc: 0.0051\n",
      "Epoch 14/150\n",
      " - 0s - loss: 5601.4950 - acc: 0.0072 - val_loss: -2.4487e+04 - val_acc: 0.0051\n",
      "Epoch 15/150\n",
      " - 0s - loss: 6616.4340 - acc: 0.0074 - val_loss: -2.4487e+04 - val_acc: 0.0051\n",
      "Epoch 16/150\n",
      " - 0s - loss: 4168.9172 - acc: 0.0072 - val_loss: -2.4487e+04 - val_acc: 0.0051\n",
      "Epoch 17/150\n",
      " - 0s - loss: 1104.7063 - acc: 0.0072 - val_loss: -2.4487e+04 - val_acc: 0.0051\n",
      "Epoch 18/150\n",
      " - 0s - loss: 294.4409 - acc: 0.0072 - val_loss: -2.4487e+04 - val_acc: 0.0051\n",
      "Epoch 19/150\n",
      " - 0s - loss: -3.5804e+02 - acc: 0.0072 - val_loss: -2.4487e+04 - val_acc: 0.0051\n",
      "Epoch 20/150\n",
      " - 0s - loss: -2.1476e+03 - acc: 0.0072 - val_loss: -2.4487e+04 - val_acc: 0.0051\n",
      "Epoch 21/150\n",
      " - 0s - loss: -5.0772e+03 - acc: 0.0072 - val_loss: -2.4487e+04 - val_acc: 0.0051\n",
      "Epoch 22/150\n",
      " - 0s - loss: -1.6714e+04 - acc: 0.0074 - val_loss: -2.4487e+04 - val_acc: 0.0051\n",
      "Epoch 23/150\n",
      " - 0s - loss: -1.9713e+04 - acc: 0.0072 - val_loss: -2.4487e+04 - val_acc: 0.0051\n",
      "Epoch 24/150\n",
      " - 0s - loss: -1.9451e+04 - acc: 0.0072 - val_loss: -2.4487e+04 - val_acc: 0.0051\n",
      "Epoch 25/150\n",
      " - 0s - loss: -1.8949e+04 - acc: 0.0072 - val_loss: -2.4487e+04 - val_acc: 0.0051\n",
      "Epoch 26/150\n",
      " - 0s - loss: -2.1240e+04 - acc: 0.0072 - val_loss: -2.4487e+04 - val_acc: 0.0051\n",
      "Epoch 27/150\n",
      " - 0s - loss: -2.1909e+04 - acc: 0.0072 - val_loss: -2.4487e+04 - val_acc: 0.0051\n",
      "Epoch 28/150\n",
      " - 0s - loss: -2.3541e+04 - acc: 0.0072 - val_loss: -2.4487e+04 - val_acc: 0.0051\n",
      "Epoch 29/150\n",
      " - 0s - loss: -2.3562e+04 - acc: 0.0072 - val_loss: -2.4487e+04 - val_acc: 0.0051\n",
      "Epoch 30/150\n",
      " - 0s - loss: -2.1994e+04 - acc: 0.0072 - val_loss: -2.4487e+04 - val_acc: 0.0051\n",
      "Epoch 31/150\n",
      " - 0s - loss: -2.3970e+04 - acc: 0.0072 - val_loss: -2.4487e+04 - val_acc: 0.0051\n",
      "Epoch 32/150\n",
      " - 0s - loss: -2.2996e+04 - acc: 0.0072 - val_loss: -2.4487e+04 - val_acc: 0.0051\n",
      "Epoch 33/150\n",
      " - 0s - loss: -2.4473e+04 - acc: 0.0072 - val_loss: -2.4487e+04 - val_acc: 0.0051\n",
      "Epoch 34/150\n",
      " - 0s - loss: -2.3526e+04 - acc: 0.0072 - val_loss: -2.4487e+04 - val_acc: 0.0051\n",
      "Epoch 35/150\n",
      " - 0s - loss: -2.4680e+04 - acc: 0.0072 - val_loss: -2.4487e+04 - val_acc: 0.0051\n",
      "Epoch 36/150\n",
      " - 0s - loss: -2.4450e+04 - acc: 0.0072 - val_loss: -2.4487e+04 - val_acc: 0.0051\n",
      "Epoch 37/150\n",
      " - 0s - loss: -2.5400e+04 - acc: 0.0074 - val_loss: -2.4487e+04 - val_acc: 0.0051\n",
      "Epoch 38/150\n",
      " - 0s - loss: -2.4448e+04 - acc: 0.0072 - val_loss: -2.4487e+04 - val_acc: 0.0051\n",
      "Epoch 39/150\n",
      " - 0s - loss: -2.4971e+04 - acc: 0.0072 - val_loss: -2.4487e+04 - val_acc: 0.0051\n",
      "Epoch 40/150\n",
      " - 0s - loss: -2.4687e+04 - acc: 0.0072 - val_loss: -2.4487e+04 - val_acc: 0.0051\n",
      "Epoch 41/150\n",
      " - 0s - loss: -2.5038e+04 - acc: 0.0072 - val_loss: -2.4487e+04 - val_acc: 0.0051\n",
      "Epoch 42/150\n",
      " - 0s - loss: -2.4753e+04 - acc: 0.0072 - val_loss: -2.4487e+04 - val_acc: 0.0051\n",
      "Epoch 43/150\n",
      " - 0s - loss: -2.4459e+04 - acc: 0.0072 - val_loss: -2.4487e+04 - val_acc: 0.0051\n",
      "Epoch 44/150\n",
      " - 0s - loss: -2.5364e+04 - acc: 0.0072 - val_loss: -2.4487e+04 - val_acc: 0.0051\n",
      "Epoch 45/150\n",
      " - 0s - loss: -2.3872e+04 - acc: 0.0072 - val_loss: -2.4487e+04 - val_acc: 0.0051\n",
      "Epoch 46/150\n",
      " - 0s - loss: -2.5132e+04 - acc: 0.0072 - val_loss: -2.4487e+04 - val_acc: 0.0051\n",
      "Epoch 47/150\n",
      " - 0s - loss: -2.5098e+04 - acc: 0.0072 - val_loss: -2.4487e+04 - val_acc: 0.0051\n",
      "Epoch 48/150\n",
      " - 0s - loss: -2.4342e+04 - acc: 0.0072 - val_loss: -2.4487e+04 - val_acc: 0.0051\n",
      "Epoch 49/150\n",
      " - 0s - loss: -2.5247e+04 - acc: 0.0072 - val_loss: -2.4487e+04 - val_acc: 0.0051\n",
      "Epoch 50/150\n",
      " - 0s - loss: -2.4774e+04 - acc: 0.0072 - val_loss: -2.4487e+04 - val_acc: 0.0051\n",
      "Epoch 51/150\n",
      " - 0s - loss: -2.4760e+04 - acc: 0.0072 - val_loss: -2.4487e+04 - val_acc: 0.0051\n",
      "Epoch 52/150\n",
      " - 0s - loss: -2.5054e+04 - acc: 0.0072 - val_loss: -2.4487e+04 - val_acc: 0.0051\n",
      "Epoch 53/150\n",
      " - 0s - loss: -2.5156e+04 - acc: 0.0072 - val_loss: -2.4487e+04 - val_acc: 0.0051\n",
      "Epoch 54/150\n",
      " - 0s - loss: -2.5139e+04 - acc: 0.0072 - val_loss: -2.4487e+04 - val_acc: 0.0051\n",
      "Epoch 55/150\n",
      " - 0s - loss: -2.5634e+04 - acc: 0.0072 - val_loss: -2.4487e+04 - val_acc: 0.0051\n",
      "Epoch 56/150\n",
      " - 0s - loss: -2.5621e+04 - acc: 0.0072 - val_loss: -2.4487e+04 - val_acc: 0.0051\n",
      "Epoch 57/150\n",
      " - 0s - loss: -2.5236e+04 - acc: 0.0072 - val_loss: -2.4487e+04 - val_acc: 0.0051\n",
      "Epoch 58/150\n",
      " - 0s - loss: -2.5829e+04 - acc: 0.0072 - val_loss: -2.4487e+04 - val_acc: 0.0051\n",
      "Epoch 59/150\n",
      " - 0s - loss: -2.5885e+04 - acc: 0.0074 - val_loss: -2.4487e+04 - val_acc: 0.0051\n",
      "Epoch 60/150\n",
      " - 0s - loss: -2.5342e+04 - acc: 0.0072 - val_loss: -2.4487e+04 - val_acc: 0.0051\n",
      "Epoch 61/150\n",
      " - 0s - loss: -2.5765e+04 - acc: 0.0072 - val_loss: -2.4487e+04 - val_acc: 0.0051\n",
      "Epoch 62/150\n",
      " - 0s - loss: -2.5130e+04 - acc: 0.0072 - val_loss: -2.4487e+04 - val_acc: 0.0051\n",
      "Epoch 63/150\n",
      " - 0s - loss: -2.5939e+04 - acc: 0.0072 - val_loss: -2.4487e+04 - val_acc: 0.0051\n",
      "Epoch 64/150\n",
      " - 0s - loss: -2.5766e+04 - acc: 0.0072 - val_loss: -2.4487e+04 - val_acc: 0.0051\n",
      "Epoch 65/150\n",
      " - 0s - loss: -2.6009e+04 - acc: 0.0072 - val_loss: -2.4487e+04 - val_acc: 0.0051\n",
      "Epoch 66/150\n",
      " - 0s - loss: -2.5790e+04 - acc: 0.0072 - val_loss: -2.4487e+04 - val_acc: 0.0051\n",
      "Epoch 67/150\n",
      " - 0s - loss: -2.5345e+04 - acc: 0.0072 - val_loss: -2.4487e+04 - val_acc: 0.0051\n",
      "Epoch 68/150\n",
      " - 0s - loss: -2.5643e+04 - acc: 0.0072 - val_loss: -2.4487e+04 - val_acc: 0.0051\n",
      "Epoch 69/150\n",
      " - 0s - loss: -2.5718e+04 - acc: 0.0072 - val_loss: -2.4487e+04 - val_acc: 0.0051\n",
      "Epoch 70/150\n",
      " - 0s - loss: -2.5701e+04 - acc: 0.0072 - val_loss: -2.4487e+04 - val_acc: 0.0051\n",
      "Epoch 71/150\n",
      " - 0s - loss: -2.5523e+04 - acc: 0.0072 - val_loss: -2.4487e+04 - val_acc: 0.0051\n",
      "Epoch 72/150\n",
      " - 0s - loss: -2.6182e+04 - acc: 0.0072 - val_loss: -2.4487e+04 - val_acc: 0.0051\n",
      "Epoch 73/150\n",
      " - 0s - loss: -2.5804e+04 - acc: 0.0072 - val_loss: -2.4487e+04 - val_acc: 0.0051\n",
      "Epoch 74/150\n",
      " - 0s - loss: -2.6182e+04 - acc: 0.0072 - val_loss: -2.4487e+04 - val_acc: 0.0051\n",
      "Epoch 75/150\n",
      " - 0s - loss: -2.5853e+04 - acc: 0.0072 - val_loss: -2.4487e+04 - val_acc: 0.0051\n",
      "Epoch 76/150\n",
      " - 0s - loss: -2.5945e+04 - acc: 0.0072 - val_loss: -2.4487e+04 - val_acc: 0.0051\n",
      "Epoch 77/150\n",
      " - 0s - loss: -2.5872e+04 - acc: 0.0072 - val_loss: -2.4487e+04 - val_acc: 0.0051\n",
      "Epoch 78/150\n",
      " - 0s - loss: -2.5899e+04 - acc: 0.0072 - val_loss: -2.4487e+04 - val_acc: 0.0051\n",
      "Epoch 79/150\n",
      " - 0s - loss: -2.6050e+04 - acc: 0.0072 - val_loss: -2.4487e+04 - val_acc: 0.0051\n",
      "Epoch 80/150\n",
      " - 0s - loss: -2.6018e+04 - acc: 0.0072 - val_loss: -2.4487e+04 - val_acc: 0.0051\n",
      "Epoch 81/150\n",
      " - 0s - loss: -2.6096e+04 - acc: 0.0072 - val_loss: -2.4487e+04 - val_acc: 0.0051\n",
      "Epoch 82/150\n",
      " - 0s - loss: -2.5754e+04 - acc: 0.0072 - val_loss: -2.4487e+04 - val_acc: 0.0051\n",
      "Epoch 83/150\n",
      " - 0s - loss: -2.6182e+04 - acc: 0.0072 - val_loss: -2.4487e+04 - val_acc: 0.0051\n",
      "Epoch 84/150\n",
      " - 0s - loss: -2.5952e+04 - acc: 0.0072 - val_loss: -2.4487e+04 - val_acc: 0.0051\n",
      "Epoch 85/150\n",
      " - 0s - loss: -2.5546e+04 - acc: 0.0072 - val_loss: -2.4487e+04 - val_acc: 0.0051\n",
      "Epoch 86/150\n",
      " - 0s - loss: -2.6182e+04 - acc: 0.0072 - val_loss: -2.4487e+04 - val_acc: 0.0051\n",
      "Epoch 87/150\n",
      " - 0s - loss: -2.5891e+04 - acc: 0.0072 - val_loss: -2.4487e+04 - val_acc: 0.0051\n"
     ]
    },
    {
     "name": "stdout",
     "output_type": "stream",
     "text": [
      "Epoch 88/150\n",
      " - 0s - loss: -2.5716e+04 - acc: 0.0072 - val_loss: -2.4487e+04 - val_acc: 0.0051\n",
      "Epoch 89/150\n",
      " - 0s - loss: -2.6182e+04 - acc: 0.0072 - val_loss: -2.4487e+04 - val_acc: 0.0051\n",
      "Epoch 90/150\n",
      " - 0s - loss: -2.6010e+04 - acc: 0.0072 - val_loss: -2.4487e+04 - val_acc: 0.0051\n",
      "Epoch 91/150\n",
      " - 0s - loss: -2.5995e+04 - acc: 0.0072 - val_loss: -2.4487e+04 - val_acc: 0.0051\n",
      "Epoch 92/150\n",
      " - 0s - loss: -2.5613e+04 - acc: 0.0072 - val_loss: -2.4487e+04 - val_acc: 0.0051\n",
      "Epoch 93/150\n",
      " - 0s - loss: -2.5394e+04 - acc: 0.0072 - val_loss: -2.4487e+04 - val_acc: 0.0051\n",
      "Epoch 94/150\n",
      " - 0s - loss: -2.5907e+04 - acc: 0.0072 - val_loss: -2.4487e+04 - val_acc: 0.0051\n",
      "Epoch 95/150\n",
      " - 0s - loss: -2.6182e+04 - acc: 0.0072 - val_loss: -2.4487e+04 - val_acc: 0.0051\n",
      "Epoch 96/150\n",
      " - 0s - loss: -2.5984e+04 - acc: 0.0072 - val_loss: -2.4487e+04 - val_acc: 0.0051\n",
      "Epoch 97/150\n",
      " - 0s - loss: -2.5931e+04 - acc: 0.0072 - val_loss: -2.4487e+04 - val_acc: 0.0051\n",
      "Epoch 98/150\n",
      " - 0s - loss: -2.6182e+04 - acc: 0.0072 - val_loss: -2.4487e+04 - val_acc: 0.0051\n",
      "Epoch 99/150\n",
      " - 0s - loss: -2.5704e+04 - acc: 0.0072 - val_loss: -2.4487e+04 - val_acc: 0.0051\n",
      "Epoch 100/150\n",
      " - 0s - loss: -2.6143e+04 - acc: 0.0072 - val_loss: -2.4487e+04 - val_acc: 0.0051\n",
      "Epoch 101/150\n",
      " - 0s - loss: -2.6182e+04 - acc: 0.0072 - val_loss: -2.4487e+04 - val_acc: 0.0051\n",
      "Epoch 102/150\n",
      " - 0s - loss: -2.6182e+04 - acc: 0.0072 - val_loss: -2.4487e+04 - val_acc: 0.0051\n",
      "Epoch 103/150\n",
      " - 0s - loss: -2.5980e+04 - acc: 0.0072 - val_loss: -2.4487e+04 - val_acc: 0.0051\n",
      "Epoch 104/150\n",
      " - 0s - loss: -2.5848e+04 - acc: 0.0072 - val_loss: -2.4487e+04 - val_acc: 0.0051\n",
      "Epoch 105/150\n",
      " - 0s - loss: -2.5986e+04 - acc: 0.0072 - val_loss: -2.4487e+04 - val_acc: 0.0051\n",
      "Epoch 106/150\n",
      " - 0s - loss: -2.6182e+04 - acc: 0.0072 - val_loss: -2.4487e+04 - val_acc: 0.0051\n",
      "Epoch 107/150\n",
      " - 0s - loss: -2.6182e+04 - acc: 0.0072 - val_loss: -2.4487e+04 - val_acc: 0.0051\n",
      "Epoch 108/150\n",
      " - 0s - loss: -2.6151e+04 - acc: 0.0072 - val_loss: -2.4487e+04 - val_acc: 0.0051\n",
      "Epoch 109/150\n",
      " - 0s - loss: -2.6069e+04 - acc: 0.0072 - val_loss: -2.4487e+04 - val_acc: 0.0051\n",
      "Epoch 110/150\n",
      " - 0s - loss: -2.6182e+04 - acc: 0.0072 - val_loss: -2.4487e+04 - val_acc: 0.0051\n",
      "Epoch 111/150\n",
      " - 0s - loss: -2.5976e+04 - acc: 0.0072 - val_loss: -2.4487e+04 - val_acc: 0.0051\n",
      "Epoch 112/150\n",
      " - 0s - loss: -2.6025e+04 - acc: 0.0072 - val_loss: -2.4487e+04 - val_acc: 0.0051\n",
      "Epoch 113/150\n",
      " - 0s - loss: -2.6182e+04 - acc: 0.0072 - val_loss: -2.4487e+04 - val_acc: 0.0051\n",
      "Epoch 114/150\n",
      " - 0s - loss: -2.6055e+04 - acc: 0.0072 - val_loss: -2.4487e+04 - val_acc: 0.0051\n",
      "Epoch 115/150\n",
      " - 0s - loss: -2.5961e+04 - acc: 0.0072 - val_loss: -2.4487e+04 - val_acc: 0.0051\n",
      "Epoch 116/150\n",
      " - 0s - loss: -2.5886e+04 - acc: 0.0072 - val_loss: -2.4487e+04 - val_acc: 0.0051\n",
      "Epoch 117/150\n",
      " - 0s - loss: -2.6032e+04 - acc: 0.0072 - val_loss: -2.4487e+04 - val_acc: 0.0051\n",
      "Epoch 118/150\n",
      " - 0s - loss: -2.6033e+04 - acc: 0.0072 - val_loss: -2.4487e+04 - val_acc: 0.0051\n",
      "Epoch 119/150\n",
      " - 0s - loss: -2.5958e+04 - acc: 0.0072 - val_loss: -2.4487e+04 - val_acc: 0.0051\n",
      "Epoch 120/150\n",
      " - 0s - loss: -2.5866e+04 - acc: 0.0072 - val_loss: -2.4487e+04 - val_acc: 0.0051\n",
      "Epoch 121/150\n",
      " - 0s - loss: -2.5958e+04 - acc: 0.0072 - val_loss: -2.4487e+04 - val_acc: 0.0051\n",
      "Epoch 122/150\n",
      " - 0s - loss: -2.6121e+04 - acc: 0.0072 - val_loss: -2.4487e+04 - val_acc: 0.0051\n",
      "Epoch 123/150\n",
      " - 0s - loss: -2.6005e+04 - acc: 0.0072 - val_loss: -2.4487e+04 - val_acc: 0.0051\n",
      "Epoch 124/150\n",
      " - 0s - loss: -2.6182e+04 - acc: 0.0072 - val_loss: -2.4487e+04 - val_acc: 0.0051\n",
      "Epoch 125/150\n",
      " - 0s - loss: -2.6178e+04 - acc: 0.0072 - val_loss: -2.4487e+04 - val_acc: 0.0051\n",
      "Epoch 126/150\n",
      " - 0s - loss: -2.6182e+04 - acc: 0.0072 - val_loss: -2.4487e+04 - val_acc: 0.0051\n",
      "Epoch 127/150\n",
      " - 0s - loss: -2.5777e+04 - acc: 0.0072 - val_loss: -2.4487e+04 - val_acc: 0.0051\n",
      "Epoch 128/150\n",
      " - 0s - loss: -2.6173e+04 - acc: 0.0072 - val_loss: -2.4487e+04 - val_acc: 0.0051\n",
      "Epoch 129/150\n",
      " - 0s - loss: -2.6041e+04 - acc: 0.0072 - val_loss: -2.4487e+04 - val_acc: 0.0051\n",
      "Epoch 130/150\n",
      " - 0s - loss: -2.6139e+04 - acc: 0.0072 - val_loss: -2.4487e+04 - val_acc: 0.0051\n",
      "Epoch 131/150\n",
      " - 0s - loss: -2.6182e+04 - acc: 0.0072 - val_loss: -2.4487e+04 - val_acc: 0.0051\n",
      "Epoch 132/150\n",
      " - 0s - loss: -2.6182e+04 - acc: 0.0072 - val_loss: -2.4487e+04 - val_acc: 0.0051\n",
      "Epoch 133/150\n",
      " - 0s - loss: -2.5920e+04 - acc: 0.0072 - val_loss: -2.4487e+04 - val_acc: 0.0051\n",
      "Epoch 134/150\n",
      " - 0s - loss: -2.6182e+04 - acc: 0.0072 - val_loss: -2.4487e+04 - val_acc: 0.0051\n",
      "Epoch 135/150\n",
      " - 0s - loss: -2.6069e+04 - acc: 0.0072 - val_loss: -2.4487e+04 - val_acc: 0.0051\n",
      "Epoch 136/150\n",
      " - 0s - loss: -2.5987e+04 - acc: 0.0072 - val_loss: -2.4487e+04 - val_acc: 0.0051\n",
      "Epoch 137/150\n",
      " - 0s - loss: -2.6150e+04 - acc: 0.0072 - val_loss: -2.4487e+04 - val_acc: 0.0051\n",
      "Epoch 138/150\n",
      " - 0s - loss: -2.6182e+04 - acc: 0.0072 - val_loss: -2.4487e+04 - val_acc: 0.0051\n",
      "Epoch 139/150\n",
      " - 0s - loss: -2.6008e+04 - acc: 0.0072 - val_loss: -2.4487e+04 - val_acc: 0.0051\n",
      "Epoch 140/150\n",
      " - 0s - loss: -2.6000e+04 - acc: 0.0072 - val_loss: -2.4487e+04 - val_acc: 0.0051\n",
      "Epoch 141/150\n",
      " - 0s - loss: -2.5930e+04 - acc: 0.0072 - val_loss: -2.4487e+04 - val_acc: 0.0051\n",
      "Epoch 142/150\n",
      " - 0s - loss: -2.6182e+04 - acc: 0.0072 - val_loss: -2.4487e+04 - val_acc: 0.0051\n",
      "Epoch 143/150\n",
      " - 0s - loss: -2.6182e+04 - acc: 0.0072 - val_loss: -2.4487e+04 - val_acc: 0.0051\n",
      "Epoch 144/150\n",
      " - 0s - loss: -2.6017e+04 - acc: 0.0072 - val_loss: -2.4487e+04 - val_acc: 0.0051\n",
      "Epoch 145/150\n",
      " - 0s - loss: -2.6182e+04 - acc: 0.0072 - val_loss: -2.4487e+04 - val_acc: 0.0051\n",
      "Epoch 146/150\n",
      " - 0s - loss: -2.6037e+04 - acc: 0.0072 - val_loss: -2.4487e+04 - val_acc: 0.0051\n",
      "Epoch 147/150\n",
      " - 0s - loss: -2.5969e+04 - acc: 0.0072 - val_loss: -2.4487e+04 - val_acc: 0.0051\n",
      "Epoch 148/150\n",
      " - 0s - loss: -2.6182e+04 - acc: 0.0072 - val_loss: -2.4487e+04 - val_acc: 0.0051\n",
      "Epoch 149/150\n",
      " - 0s - loss: -2.5878e+04 - acc: 0.0072 - val_loss: -2.4487e+04 - val_acc: 0.0051\n",
      "Epoch 150/150\n",
      " - 0s - loss: -2.6182e+04 - acc: 0.0072 - val_loss: -2.4487e+04 - val_acc: 0.0051\n"
     ]
    }
   ],
   "source": [
    "y_pred = model.fit(X_train, y_train, batch_size=32, epochs=150, verbose=2, callbacks=None, validation_split=0.5, validation_data=(X_test,y_test), shuffle=True, class_weight=None, sample_weight=None, initial_epoch=0, steps_per_epoch=None, validation_steps=None)"
   ]
  },
  {
   "cell_type": "code",
   "execution_count": 29,
   "metadata": {},
   "outputs": [
    {
     "name": "stdout",
     "output_type": "stream",
     "text": [
      "acc: 0.65%\n"
     ]
    }
   ],
   "source": [
    "# evaluate the model\n",
    "scores = model.evaluate(X,Y, verbose=0)\n",
    "print(\"%s: %.2f%%\" % (model.metrics_names[1], scores[1]*100))"
   ]
  },
  {
   "cell_type": "code",
   "execution_count": 30,
   "metadata": {},
   "outputs": [],
   "source": [
    "from sklearn.externals import joblib"
   ]
  },
  {
   "cell_type": "code",
   "execution_count": 32,
   "metadata": {},
   "outputs": [
    {
     "data": {
      "text/plain": [
       "['model.pkl']"
      ]
     },
     "execution_count": 32,
     "metadata": {},
     "output_type": "execute_result"
    }
   ],
   "source": [
    "joblib.dump(model, 'model.pkl')"
   ]
  },
  {
   "cell_type": "code",
   "execution_count": 34,
   "metadata": {},
   "outputs": [
    {
     "name": "stdout",
     "output_type": "stream",
     "text": [
      "Models columns dumped!\n"
     ]
    }
   ],
   "source": [
    "# Saving the data columns from training\n",
    "model_columns = list(weather.columns)\n",
    "joblib.dump(model_columns, 'model_columns.pkl')\n",
    "print(\"Models columns dumped!\")"
   ]
  },
  {
   "cell_type": "code",
   "execution_count": null,
   "metadata": {},
   "outputs": [],
   "source": []
  }
 ],
 "metadata": {
  "kernelspec": {
   "display_name": "Python 3",
   "language": "python",
   "name": "python3"
  },
  "language_info": {
   "codemirror_mode": {
    "name": "ipython",
    "version": 3
   },
   "file_extension": ".py",
   "mimetype": "text/x-python",
   "name": "python",
   "nbconvert_exporter": "python",
   "pygments_lexer": "ipython3",
   "version": "3.7.4"
  }
 },
 "nbformat": 4,
 "nbformat_minor": 2
}

{
 "cells": [
  {
   "cell_type": "code",
   "execution_count": 1,
   "metadata": {},
   "outputs": [],
   "source": [
    "import pandas as pd"
   ]
  },
  {
   "cell_type": "code",
   "execution_count": 2,
   "metadata": {},
   "outputs": [],
   "source": [
    "solar = pd.read_csv(\"weather-random.csv\")"
   ]
  },
  {
   "cell_type": "code",
   "execution_count": 16,
   "metadata": {},
   "outputs": [
    {
     "data": {
      "text/html": [
       "<div>\n",
       "<style scoped>\n",
       "    .dataframe tbody tr th:only-of-type {\n",
       "        vertical-align: middle;\n",
       "    }\n",
       "\n",
       "    .dataframe tbody tr th {\n",
       "        vertical-align: top;\n",
       "    }\n",
       "\n",
       "    .dataframe thead th {\n",
       "        text-align: right;\n",
       "    }\n",
       "</style>\n",
       "<table border=\"1\" class=\"dataframe\">\n",
       "  <thead>\n",
       "    <tr style=\"text-align: right;\">\n",
       "      <th></th>\n",
       "      <th>Date</th>\n",
       "      <th>Cloud coverage</th>\n",
       "      <th>Visibility</th>\n",
       "      <th>Temperature</th>\n",
       "      <th>Dew point</th>\n",
       "      <th>Relative humidity</th>\n",
       "      <th>Wind speed</th>\n",
       "      <th>Station pressure</th>\n",
       "      <th>Altimeter</th>\n",
       "      <th>Solar energy</th>\n",
       "    </tr>\n",
       "  </thead>\n",
       "  <tbody>\n",
       "    <tr>\n",
       "      <td>0</td>\n",
       "      <td>5/30/2017</td>\n",
       "      <td>0.31</td>\n",
       "      <td>9.96</td>\n",
       "      <td>19.77</td>\n",
       "      <td>7.51</td>\n",
       "      <td>45.51</td>\n",
       "      <td>10.91</td>\n",
       "      <td>27.20</td>\n",
       "      <td>29.99</td>\n",
       "      <td>35074.0</td>\n",
       "    </tr>\n",
       "    <tr>\n",
       "      <td>1</td>\n",
       "      <td>7/26/2017</td>\n",
       "      <td>0.27</td>\n",
       "      <td>9.41</td>\n",
       "      <td>24.57</td>\n",
       "      <td>21.81</td>\n",
       "      <td>83.62</td>\n",
       "      <td>5.09</td>\n",
       "      <td>29.26</td>\n",
       "      <td>30.05</td>\n",
       "      <td>28983.0</td>\n",
       "    </tr>\n",
       "    <tr>\n",
       "      <td>2</td>\n",
       "      <td>6/5/2016</td>\n",
       "      <td>0.35</td>\n",
       "      <td>10.00</td>\n",
       "      <td>20.79</td>\n",
       "      <td>15.21</td>\n",
       "      <td>68.98</td>\n",
       "      <td>11.61</td>\n",
       "      <td>28.96</td>\n",
       "      <td>29.75</td>\n",
       "      <td>28213.0</td>\n",
       "    </tr>\n",
       "    <tr>\n",
       "      <td>3</td>\n",
       "      <td>1/19/2017</td>\n",
       "      <td>0.70</td>\n",
       "      <td>3.63</td>\n",
       "      <td>4.34</td>\n",
       "      <td>4.01</td>\n",
       "      <td>95.85</td>\n",
       "      <td>8.08</td>\n",
       "      <td>29.09</td>\n",
       "      <td>29.88</td>\n",
       "      <td>3127.0</td>\n",
       "    </tr>\n",
       "    <tr>\n",
       "      <td>4</td>\n",
       "      <td>5/5/2017</td>\n",
       "      <td>0.12</td>\n",
       "      <td>10.00</td>\n",
       "      <td>10.78</td>\n",
       "      <td>5.44</td>\n",
       "      <td>70.45</td>\n",
       "      <td>15.34</td>\n",
       "      <td>28.98</td>\n",
       "      <td>29.77</td>\n",
       "      <td>39832.0</td>\n",
       "    </tr>\n",
       "  </tbody>\n",
       "</table>\n",
       "</div>"
      ],
      "text/plain": [
       "        Date  Cloud coverage  Visibility  Temperature  Dew point  \\\n",
       "0  5/30/2017            0.31        9.96        19.77       7.51   \n",
       "1  7/26/2017            0.27        9.41        24.57      21.81   \n",
       "2   6/5/2016            0.35       10.00        20.79      15.21   \n",
       "3  1/19/2017            0.70        3.63         4.34       4.01   \n",
       "4   5/5/2017            0.12       10.00        10.78       5.44   \n",
       "\n",
       "   Relative humidity  Wind speed  Station pressure  Altimeter  Solar energy  \n",
       "0              45.51       10.91             27.20      29.99       35074.0  \n",
       "1              83.62        5.09             29.26      30.05       28983.0  \n",
       "2              68.98       11.61             28.96      29.75       28213.0  \n",
       "3              95.85        8.08             29.09      29.88        3127.0  \n",
       "4              70.45       15.34             28.98      29.77       39832.0  "
      ]
     },
     "execution_count": 16,
     "metadata": {},
     "output_type": "execute_result"
    }
   ],
   "source": [
    "solar.head(5)"
   ]
  },
  {
   "cell_type": "code",
   "execution_count": 8,
   "metadata": {},
   "outputs": [
    {
     "data": {
      "text/plain": [
       "Index(['Random', 'Date', 'Cloud coverage', 'Visibility', 'Temperature',\n",
       "       'Dew point', 'Relative humidity', 'Wind speed', 'Station pressure',\n",
       "       'Altimeter', 'Solar energy', '(Inverters)'],\n",
       "      dtype='object')"
      ]
     },
     "execution_count": 8,
     "metadata": {},
     "output_type": "execute_result"
    }
   ],
   "source": [
    "solar.columns"
   ]
  },
  {
   "cell_type": "code",
   "execution_count": 10,
   "metadata": {},
   "outputs": [],
   "source": [
    "solar.drop([\"(Inverters)\",\"Random\"], axis = 1, inplace = True) "
   ]
  },
  {
   "cell_type": "code",
   "execution_count": 11,
   "metadata": {},
   "outputs": [],
   "source": [
    "col = solar.columns"
   ]
  },
  {
   "cell_type": "code",
   "execution_count": 13,
   "metadata": {},
   "outputs": [],
   "source": [
    "df = pd.DataFrame(solar, columns = col) "
   ]
  },
  {
   "cell_type": "code",
   "execution_count": 14,
   "metadata": {},
   "outputs": [
    {
     "data": {
      "text/html": [
       "<div>\n",
       "<style scoped>\n",
       "    .dataframe tbody tr th:only-of-type {\n",
       "        vertical-align: middle;\n",
       "    }\n",
       "\n",
       "    .dataframe tbody tr th {\n",
       "        vertical-align: top;\n",
       "    }\n",
       "\n",
       "    .dataframe thead th {\n",
       "        text-align: right;\n",
       "    }\n",
       "</style>\n",
       "<table border=\"1\" class=\"dataframe\">\n",
       "  <thead>\n",
       "    <tr style=\"text-align: right;\">\n",
       "      <th></th>\n",
       "      <th>Date</th>\n",
       "      <th>Cloud coverage</th>\n",
       "      <th>Visibility</th>\n",
       "      <th>Temperature</th>\n",
       "      <th>Dew point</th>\n",
       "      <th>Relative humidity</th>\n",
       "      <th>Wind speed</th>\n",
       "      <th>Station pressure</th>\n",
       "      <th>Altimeter</th>\n",
       "      <th>Solar energy</th>\n",
       "    </tr>\n",
       "  </thead>\n",
       "  <tbody>\n",
       "    <tr>\n",
       "      <td>0</td>\n",
       "      <td>5/30/2017</td>\n",
       "      <td>0.31</td>\n",
       "      <td>9.96</td>\n",
       "      <td>19.77</td>\n",
       "      <td>7.51</td>\n",
       "      <td>45.51</td>\n",
       "      <td>10.91</td>\n",
       "      <td>27.2</td>\n",
       "      <td>29.99</td>\n",
       "      <td>35074.0</td>\n",
       "    </tr>\n",
       "  </tbody>\n",
       "</table>\n",
       "</div>"
      ],
      "text/plain": [
       "        Date  Cloud coverage  Visibility  Temperature  Dew point  \\\n",
       "0  5/30/2017            0.31        9.96        19.77       7.51   \n",
       "\n",
       "   Relative humidity  Wind speed  Station pressure  Altimeter  Solar energy  \n",
       "0              45.51       10.91              27.2      29.99       35074.0  "
      ]
     },
     "execution_count": 14,
     "metadata": {},
     "output_type": "execute_result"
    }
   ],
   "source": [
    "df.head(1)"
   ]
  },
  {
   "cell_type": "code",
   "execution_count": 15,
   "metadata": {},
   "outputs": [],
   "source": [
    "df.to_csv(\"solar.csv\")"
   ]
  },
  {
   "cell_type": "code",
   "execution_count": null,
   "metadata": {},
   "outputs": [],
   "source": []
  }
 ],
 "metadata": {
  "kernelspec": {
   "display_name": "Python 3",
   "language": "python",
   "name": "python3"
  },
  "language_info": {
   "codemirror_mode": {
    "name": "ipython",
    "version": 3
   },
   "file_extension": ".py",
   "mimetype": "text/x-python",
   "name": "python",
   "nbconvert_exporter": "python",
   "pygments_lexer": "ipython3",
   "version": "3.7.4"
  }
 },
 "nbformat": 4,
 "nbformat_minor": 2
}
